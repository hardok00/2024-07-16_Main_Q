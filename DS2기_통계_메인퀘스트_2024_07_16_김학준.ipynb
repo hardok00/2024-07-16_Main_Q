{
  "nbformat": 4,
  "nbformat_minor": 0,
  "metadata": {
    "colab": {
      "provenance": []
    },
    "kernelspec": {
      "name": "python3",
      "display_name": "Python 3"
    },
    "language_info": {
      "name": "python"
    }
  },
  "cells": [
    {
      "cell_type": "code",
      "source": [
        "import pandas as pd\n",
        "import numpy as np\n",
        "import matplotlib.pyplot as plt\n",
        "import seaborn as sns"
      ],
      "metadata": {
        "id": "0fq_tc1K-GSO"
      },
      "execution_count": null,
      "outputs": []
    },
    {
      "cell_type": "code",
      "source": [
        "!pip install koreanize-matplotlib\n",
        "import koreanize_matplotlib\n",
        "\n",
        "%config InlineBackend.figure_format = 'retina'"
      ],
      "metadata": {
        "id": "Hxa06lg7-FAX",
        "colab": {
          "base_uri": "https://localhost:8080/"
        },
        "outputId": "c65a526c-2a0f-4c81-a151-33a05e0c407f"
      },
      "execution_count": 223,
      "outputs": [
        {
          "output_type": "stream",
          "name": "stdout",
          "text": [
            "Requirement already satisfied: koreanize-matplotlib in /usr/local/lib/python3.10/dist-packages (0.1.1)\n",
            "Requirement already satisfied: matplotlib in /usr/local/lib/python3.10/dist-packages (from koreanize-matplotlib) (3.7.1)\n",
            "Requirement already satisfied: contourpy>=1.0.1 in /usr/local/lib/python3.10/dist-packages (from matplotlib->koreanize-matplotlib) (1.2.1)\n",
            "Requirement already satisfied: cycler>=0.10 in /usr/local/lib/python3.10/dist-packages (from matplotlib->koreanize-matplotlib) (0.12.1)\n",
            "Requirement already satisfied: fonttools>=4.22.0 in /usr/local/lib/python3.10/dist-packages (from matplotlib->koreanize-matplotlib) (4.53.1)\n",
            "Requirement already satisfied: kiwisolver>=1.0.1 in /usr/local/lib/python3.10/dist-packages (from matplotlib->koreanize-matplotlib) (1.4.5)\n",
            "Requirement already satisfied: numpy>=1.20 in /usr/local/lib/python3.10/dist-packages (from matplotlib->koreanize-matplotlib) (1.25.2)\n",
            "Requirement already satisfied: packaging>=20.0 in /usr/local/lib/python3.10/dist-packages (from matplotlib->koreanize-matplotlib) (24.1)\n",
            "Requirement already satisfied: pillow>=6.2.0 in /usr/local/lib/python3.10/dist-packages (from matplotlib->koreanize-matplotlib) (9.4.0)\n",
            "Requirement already satisfied: pyparsing>=2.3.1 in /usr/local/lib/python3.10/dist-packages (from matplotlib->koreanize-matplotlib) (3.1.2)\n",
            "Requirement already satisfied: python-dateutil>=2.7 in /usr/local/lib/python3.10/dist-packages (from matplotlib->koreanize-matplotlib) (2.8.2)\n",
            "Requirement already satisfied: six>=1.5 in /usr/local/lib/python3.10/dist-packages (from python-dateutil>=2.7->matplotlib->koreanize-matplotlib) (1.16.0)\n"
          ]
        }
      ]
    },
    {
      "cell_type": "code",
      "source": [
        "df = pd.read_parquet(\"https://github.com/corazzon/KaggleStruggle/raw/master/online-retail/data/online_retail.gzip\")\n",
        "df.shape"
      ],
      "metadata": {
        "id": "oItbCHlY-IbX",
        "colab": {
          "base_uri": "https://localhost:8080/"
        },
        "outputId": "168b7bee-0e0c-4faa-de02-cab110b9c03b"
      },
      "execution_count": 224,
      "outputs": [
        {
          "output_type": "execute_result",
          "data": {
            "text/plain": [
              "(541909, 8)"
            ]
          },
          "metadata": {},
          "execution_count": 224
        }
      ]
    },
    {
      "cell_type": "code",
      "source": [
        "df.head()"
      ],
      "metadata": {
        "id": "lNqdafOU-I7W",
        "colab": {
          "base_uri": "https://localhost:8080/",
          "height": 206
        },
        "outputId": "04d3fe0f-b114-4b98-e75b-4ad3e421e52a"
      },
      "execution_count": 225,
      "outputs": [
        {
          "output_type": "execute_result",
          "data": {
            "text/plain": [
              "  InvoiceNo StockCode                          Description  Quantity  \\\n",
              "0    536365    85123A   WHITE HANGING HEART T-LIGHT HOLDER         6   \n",
              "1    536365     71053                  WHITE METAL LANTERN         6   \n",
              "2    536365    84406B       CREAM CUPID HEARTS COAT HANGER         8   \n",
              "3    536365    84029G  KNITTED UNION FLAG HOT WATER BOTTLE         6   \n",
              "4    536365    84029E       RED WOOLLY HOTTIE WHITE HEART.         6   \n",
              "\n",
              "           InvoiceDate  UnitPrice  CustomerID         Country  \n",
              "0  2010-12-01 08:26:00       2.55     17850.0  United Kingdom  \n",
              "1  2010-12-01 08:26:00       3.39     17850.0  United Kingdom  \n",
              "2  2010-12-01 08:26:00       2.75     17850.0  United Kingdom  \n",
              "3  2010-12-01 08:26:00       3.39     17850.0  United Kingdom  \n",
              "4  2010-12-01 08:26:00       3.39     17850.0  United Kingdom  "
            ],
            "text/html": [
              "\n",
              "  <div id=\"df-d3753b11-b476-448b-b990-69e966306c62\" class=\"colab-df-container\">\n",
              "    <div>\n",
              "<style scoped>\n",
              "    .dataframe tbody tr th:only-of-type {\n",
              "        vertical-align: middle;\n",
              "    }\n",
              "\n",
              "    .dataframe tbody tr th {\n",
              "        vertical-align: top;\n",
              "    }\n",
              "\n",
              "    .dataframe thead th {\n",
              "        text-align: right;\n",
              "    }\n",
              "</style>\n",
              "<table border=\"1\" class=\"dataframe\">\n",
              "  <thead>\n",
              "    <tr style=\"text-align: right;\">\n",
              "      <th></th>\n",
              "      <th>InvoiceNo</th>\n",
              "      <th>StockCode</th>\n",
              "      <th>Description</th>\n",
              "      <th>Quantity</th>\n",
              "      <th>InvoiceDate</th>\n",
              "      <th>UnitPrice</th>\n",
              "      <th>CustomerID</th>\n",
              "      <th>Country</th>\n",
              "    </tr>\n",
              "  </thead>\n",
              "  <tbody>\n",
              "    <tr>\n",
              "      <th>0</th>\n",
              "      <td>536365</td>\n",
              "      <td>85123A</td>\n",
              "      <td>WHITE HANGING HEART T-LIGHT HOLDER</td>\n",
              "      <td>6</td>\n",
              "      <td>2010-12-01 08:26:00</td>\n",
              "      <td>2.55</td>\n",
              "      <td>17850.0</td>\n",
              "      <td>United Kingdom</td>\n",
              "    </tr>\n",
              "    <tr>\n",
              "      <th>1</th>\n",
              "      <td>536365</td>\n",
              "      <td>71053</td>\n",
              "      <td>WHITE METAL LANTERN</td>\n",
              "      <td>6</td>\n",
              "      <td>2010-12-01 08:26:00</td>\n",
              "      <td>3.39</td>\n",
              "      <td>17850.0</td>\n",
              "      <td>United Kingdom</td>\n",
              "    </tr>\n",
              "    <tr>\n",
              "      <th>2</th>\n",
              "      <td>536365</td>\n",
              "      <td>84406B</td>\n",
              "      <td>CREAM CUPID HEARTS COAT HANGER</td>\n",
              "      <td>8</td>\n",
              "      <td>2010-12-01 08:26:00</td>\n",
              "      <td>2.75</td>\n",
              "      <td>17850.0</td>\n",
              "      <td>United Kingdom</td>\n",
              "    </tr>\n",
              "    <tr>\n",
              "      <th>3</th>\n",
              "      <td>536365</td>\n",
              "      <td>84029G</td>\n",
              "      <td>KNITTED UNION FLAG HOT WATER BOTTLE</td>\n",
              "      <td>6</td>\n",
              "      <td>2010-12-01 08:26:00</td>\n",
              "      <td>3.39</td>\n",
              "      <td>17850.0</td>\n",
              "      <td>United Kingdom</td>\n",
              "    </tr>\n",
              "    <tr>\n",
              "      <th>4</th>\n",
              "      <td>536365</td>\n",
              "      <td>84029E</td>\n",
              "      <td>RED WOOLLY HOTTIE WHITE HEART.</td>\n",
              "      <td>6</td>\n",
              "      <td>2010-12-01 08:26:00</td>\n",
              "      <td>3.39</td>\n",
              "      <td>17850.0</td>\n",
              "      <td>United Kingdom</td>\n",
              "    </tr>\n",
              "  </tbody>\n",
              "</table>\n",
              "</div>\n",
              "    <div class=\"colab-df-buttons\">\n",
              "\n",
              "  <div class=\"colab-df-container\">\n",
              "    <button class=\"colab-df-convert\" onclick=\"convertToInteractive('df-d3753b11-b476-448b-b990-69e966306c62')\"\n",
              "            title=\"Convert this dataframe to an interactive table.\"\n",
              "            style=\"display:none;\">\n",
              "\n",
              "  <svg xmlns=\"http://www.w3.org/2000/svg\" height=\"24px\" viewBox=\"0 -960 960 960\">\n",
              "    <path d=\"M120-120v-720h720v720H120Zm60-500h600v-160H180v160Zm220 220h160v-160H400v160Zm0 220h160v-160H400v160ZM180-400h160v-160H180v160Zm440 0h160v-160H620v160ZM180-180h160v-160H180v160Zm440 0h160v-160H620v160Z\"/>\n",
              "  </svg>\n",
              "    </button>\n",
              "\n",
              "  <style>\n",
              "    .colab-df-container {\n",
              "      display:flex;\n",
              "      gap: 12px;\n",
              "    }\n",
              "\n",
              "    .colab-df-convert {\n",
              "      background-color: #E8F0FE;\n",
              "      border: none;\n",
              "      border-radius: 50%;\n",
              "      cursor: pointer;\n",
              "      display: none;\n",
              "      fill: #1967D2;\n",
              "      height: 32px;\n",
              "      padding: 0 0 0 0;\n",
              "      width: 32px;\n",
              "    }\n",
              "\n",
              "    .colab-df-convert:hover {\n",
              "      background-color: #E2EBFA;\n",
              "      box-shadow: 0px 1px 2px rgba(60, 64, 67, 0.3), 0px 1px 3px 1px rgba(60, 64, 67, 0.15);\n",
              "      fill: #174EA6;\n",
              "    }\n",
              "\n",
              "    .colab-df-buttons div {\n",
              "      margin-bottom: 4px;\n",
              "    }\n",
              "\n",
              "    [theme=dark] .colab-df-convert {\n",
              "      background-color: #3B4455;\n",
              "      fill: #D2E3FC;\n",
              "    }\n",
              "\n",
              "    [theme=dark] .colab-df-convert:hover {\n",
              "      background-color: #434B5C;\n",
              "      box-shadow: 0px 1px 3px 1px rgba(0, 0, 0, 0.15);\n",
              "      filter: drop-shadow(0px 1px 2px rgba(0, 0, 0, 0.3));\n",
              "      fill: #FFFFFF;\n",
              "    }\n",
              "  </style>\n",
              "\n",
              "    <script>\n",
              "      const buttonEl =\n",
              "        document.querySelector('#df-d3753b11-b476-448b-b990-69e966306c62 button.colab-df-convert');\n",
              "      buttonEl.style.display =\n",
              "        google.colab.kernel.accessAllowed ? 'block' : 'none';\n",
              "\n",
              "      async function convertToInteractive(key) {\n",
              "        const element = document.querySelector('#df-d3753b11-b476-448b-b990-69e966306c62');\n",
              "        const dataTable =\n",
              "          await google.colab.kernel.invokeFunction('convertToInteractive',\n",
              "                                                    [key], {});\n",
              "        if (!dataTable) return;\n",
              "\n",
              "        const docLinkHtml = 'Like what you see? Visit the ' +\n",
              "          '<a target=\"_blank\" href=https://colab.research.google.com/notebooks/data_table.ipynb>data table notebook</a>'\n",
              "          + ' to learn more about interactive tables.';\n",
              "        element.innerHTML = '';\n",
              "        dataTable['output_type'] = 'display_data';\n",
              "        await google.colab.output.renderOutput(dataTable, element);\n",
              "        const docLink = document.createElement('div');\n",
              "        docLink.innerHTML = docLinkHtml;\n",
              "        element.appendChild(docLink);\n",
              "      }\n",
              "    </script>\n",
              "  </div>\n",
              "\n",
              "\n",
              "<div id=\"df-597ee113-c92e-41e3-96e0-635252baef9b\">\n",
              "  <button class=\"colab-df-quickchart\" onclick=\"quickchart('df-597ee113-c92e-41e3-96e0-635252baef9b')\"\n",
              "            title=\"Suggest charts\"\n",
              "            style=\"display:none;\">\n",
              "\n",
              "<svg xmlns=\"http://www.w3.org/2000/svg\" height=\"24px\"viewBox=\"0 0 24 24\"\n",
              "     width=\"24px\">\n",
              "    <g>\n",
              "        <path d=\"M19 3H5c-1.1 0-2 .9-2 2v14c0 1.1.9 2 2 2h14c1.1 0 2-.9 2-2V5c0-1.1-.9-2-2-2zM9 17H7v-7h2v7zm4 0h-2V7h2v10zm4 0h-2v-4h2v4z\"/>\n",
              "    </g>\n",
              "</svg>\n",
              "  </button>\n",
              "\n",
              "<style>\n",
              "  .colab-df-quickchart {\n",
              "      --bg-color: #E8F0FE;\n",
              "      --fill-color: #1967D2;\n",
              "      --hover-bg-color: #E2EBFA;\n",
              "      --hover-fill-color: #174EA6;\n",
              "      --disabled-fill-color: #AAA;\n",
              "      --disabled-bg-color: #DDD;\n",
              "  }\n",
              "\n",
              "  [theme=dark] .colab-df-quickchart {\n",
              "      --bg-color: #3B4455;\n",
              "      --fill-color: #D2E3FC;\n",
              "      --hover-bg-color: #434B5C;\n",
              "      --hover-fill-color: #FFFFFF;\n",
              "      --disabled-bg-color: #3B4455;\n",
              "      --disabled-fill-color: #666;\n",
              "  }\n",
              "\n",
              "  .colab-df-quickchart {\n",
              "    background-color: var(--bg-color);\n",
              "    border: none;\n",
              "    border-radius: 50%;\n",
              "    cursor: pointer;\n",
              "    display: none;\n",
              "    fill: var(--fill-color);\n",
              "    height: 32px;\n",
              "    padding: 0;\n",
              "    width: 32px;\n",
              "  }\n",
              "\n",
              "  .colab-df-quickchart:hover {\n",
              "    background-color: var(--hover-bg-color);\n",
              "    box-shadow: 0 1px 2px rgba(60, 64, 67, 0.3), 0 1px 3px 1px rgba(60, 64, 67, 0.15);\n",
              "    fill: var(--button-hover-fill-color);\n",
              "  }\n",
              "\n",
              "  .colab-df-quickchart-complete:disabled,\n",
              "  .colab-df-quickchart-complete:disabled:hover {\n",
              "    background-color: var(--disabled-bg-color);\n",
              "    fill: var(--disabled-fill-color);\n",
              "    box-shadow: none;\n",
              "  }\n",
              "\n",
              "  .colab-df-spinner {\n",
              "    border: 2px solid var(--fill-color);\n",
              "    border-color: transparent;\n",
              "    border-bottom-color: var(--fill-color);\n",
              "    animation:\n",
              "      spin 1s steps(1) infinite;\n",
              "  }\n",
              "\n",
              "  @keyframes spin {\n",
              "    0% {\n",
              "      border-color: transparent;\n",
              "      border-bottom-color: var(--fill-color);\n",
              "      border-left-color: var(--fill-color);\n",
              "    }\n",
              "    20% {\n",
              "      border-color: transparent;\n",
              "      border-left-color: var(--fill-color);\n",
              "      border-top-color: var(--fill-color);\n",
              "    }\n",
              "    30% {\n",
              "      border-color: transparent;\n",
              "      border-left-color: var(--fill-color);\n",
              "      border-top-color: var(--fill-color);\n",
              "      border-right-color: var(--fill-color);\n",
              "    }\n",
              "    40% {\n",
              "      border-color: transparent;\n",
              "      border-right-color: var(--fill-color);\n",
              "      border-top-color: var(--fill-color);\n",
              "    }\n",
              "    60% {\n",
              "      border-color: transparent;\n",
              "      border-right-color: var(--fill-color);\n",
              "    }\n",
              "    80% {\n",
              "      border-color: transparent;\n",
              "      border-right-color: var(--fill-color);\n",
              "      border-bottom-color: var(--fill-color);\n",
              "    }\n",
              "    90% {\n",
              "      border-color: transparent;\n",
              "      border-bottom-color: var(--fill-color);\n",
              "    }\n",
              "  }\n",
              "</style>\n",
              "\n",
              "  <script>\n",
              "    async function quickchart(key) {\n",
              "      const quickchartButtonEl =\n",
              "        document.querySelector('#' + key + ' button');\n",
              "      quickchartButtonEl.disabled = true;  // To prevent multiple clicks.\n",
              "      quickchartButtonEl.classList.add('colab-df-spinner');\n",
              "      try {\n",
              "        const charts = await google.colab.kernel.invokeFunction(\n",
              "            'suggestCharts', [key], {});\n",
              "      } catch (error) {\n",
              "        console.error('Error during call to suggestCharts:', error);\n",
              "      }\n",
              "      quickchartButtonEl.classList.remove('colab-df-spinner');\n",
              "      quickchartButtonEl.classList.add('colab-df-quickchart-complete');\n",
              "    }\n",
              "    (() => {\n",
              "      let quickchartButtonEl =\n",
              "        document.querySelector('#df-597ee113-c92e-41e3-96e0-635252baef9b button');\n",
              "      quickchartButtonEl.style.display =\n",
              "        google.colab.kernel.accessAllowed ? 'block' : 'none';\n",
              "    })();\n",
              "  </script>\n",
              "</div>\n",
              "\n",
              "    </div>\n",
              "  </div>\n"
            ],
            "application/vnd.google.colaboratory.intrinsic+json": {
              "type": "dataframe",
              "variable_name": "df"
            }
          },
          "metadata": {},
          "execution_count": 225
        }
      ]
    },
    {
      "cell_type": "code",
      "source": [
        "df.info()"
      ],
      "metadata": {
        "id": "_PBKE4Mg-KPM",
        "colab": {
          "base_uri": "https://localhost:8080/"
        },
        "outputId": "e23ecd2e-8a12-4aa4-e166-68da7d5fea99"
      },
      "execution_count": 226,
      "outputs": [
        {
          "output_type": "stream",
          "name": "stdout",
          "text": [
            "<class 'pandas.core.frame.DataFrame'>\n",
            "RangeIndex: 541909 entries, 0 to 541908\n",
            "Data columns (total 8 columns):\n",
            " #   Column       Non-Null Count   Dtype   \n",
            "---  ------       --------------   -----   \n",
            " 0   InvoiceNo    541909 non-null  category\n",
            " 1   StockCode    541909 non-null  category\n",
            " 2   Description  540455 non-null  category\n",
            " 3   Quantity     541909 non-null  int32   \n",
            " 4   InvoiceDate  541909 non-null  category\n",
            " 5   UnitPrice    541909 non-null  float64 \n",
            " 6   CustomerID   406829 non-null  float32 \n",
            " 7   Country      541909 non-null  category\n",
            "dtypes: category(5), float32(1), float64(1), int32(1)\n",
            "memory usage: 15.1 MB\n"
          ]
        }
      ]
    },
    {
      "cell_type": "markdown",
      "source": [
        "## 데이터 분석\n",
        "1. InvoiceNo : 거래 번호\n",
        "2. StockCode : 재고코드\n",
        "3. Description : 설명\n",
        "4. Quantity : 주문수량\n",
        "5. InvoiceDate : 거래 발생 날짜 및 시간\n",
        "6. UnitPrice : 단가\n",
        "7. CustomerID : 고객 ID\n",
        "8. Country : 국가"
      ],
      "metadata": {
        "id": "1jh4yZw9K6Uu"
      }
    },
    {
      "cell_type": "markdown",
      "source": [
        "## 결측치 제거"
      ],
      "metadata": {
        "id": "j69lsUP3KhK4"
      }
    },
    {
      "cell_type": "code",
      "source": [
        "df.isnull().sum()"
      ],
      "metadata": {
        "colab": {
          "base_uri": "https://localhost:8080/"
        },
        "id": "lWLeWUeiIzhB",
        "outputId": "dac467a3-30eb-41e6-9e78-ff5c1ae41355"
      },
      "execution_count": 227,
      "outputs": [
        {
          "output_type": "execute_result",
          "data": {
            "text/plain": [
              "InvoiceNo           0\n",
              "StockCode           0\n",
              "Description      1454\n",
              "Quantity            0\n",
              "InvoiceDate         0\n",
              "UnitPrice           0\n",
              "CustomerID     135080\n",
              "Country             0\n",
              "dtype: int64"
            ]
          },
          "metadata": {},
          "execution_count": 227
        }
      ]
    },
    {
      "cell_type": "code",
      "source": [
        "# CustomerID가 0 인 사람을 비회원으로 인식\n",
        "# Description이 없는 Series는 삭제\n",
        "\n",
        "df['CustomerID'] = df['CustomerID'].fillna(0)\n",
        "df = df.dropna()"
      ],
      "metadata": {
        "id": "gHuNYJDXI1qS"
      },
      "execution_count": 228,
      "outputs": []
    },
    {
      "cell_type": "code",
      "source": [
        "df.isnull().sum()"
      ],
      "metadata": {
        "colab": {
          "base_uri": "https://localhost:8080/"
        },
        "id": "c2HETehPJRHQ",
        "outputId": "99e036e1-1b2b-4be5-ee65-61517e1e296f"
      },
      "execution_count": 229,
      "outputs": [
        {
          "output_type": "execute_result",
          "data": {
            "text/plain": [
              "InvoiceNo      0\n",
              "StockCode      0\n",
              "Description    0\n",
              "Quantity       0\n",
              "InvoiceDate    0\n",
              "UnitPrice      0\n",
              "CustomerID     0\n",
              "Country        0\n",
              "dtype: int64"
            ]
          },
          "metadata": {},
          "execution_count": 229
        }
      ]
    },
    {
      "cell_type": "markdown",
      "source": [
        "## 이상치 제거"
      ],
      "metadata": {
        "id": "rKNz_Hu6Kjqt"
      }
    },
    {
      "cell_type": "code",
      "source": [
        "df.describe()"
      ],
      "metadata": {
        "colab": {
          "base_uri": "https://localhost:8080/",
          "height": 300
        },
        "id": "qVhtmyefKkx4",
        "outputId": "ca22dcc5-4057-4c68-a492-44b2cc310c30"
      },
      "execution_count": 230,
      "outputs": [
        {
          "output_type": "execute_result",
          "data": {
            "text/plain": [
              "            Quantity      UnitPrice     CustomerID\n",
              "count  540455.000000  540455.000000  540455.000000\n",
              "mean        9.603129       4.623519   11507.853516\n",
              "std       218.007598      96.889628    6760.791992\n",
              "min    -80995.000000  -11062.060000       0.000000\n",
              "25%         1.000000       1.250000   12367.000000\n",
              "50%         3.000000       2.080000   14390.000000\n",
              "75%        10.000000       4.130000   16261.000000\n",
              "max     80995.000000   38970.000000   18287.000000"
            ],
            "text/html": [
              "\n",
              "  <div id=\"df-19ab112d-9676-4497-83e6-93b2d518bb1f\" class=\"colab-df-container\">\n",
              "    <div>\n",
              "<style scoped>\n",
              "    .dataframe tbody tr th:only-of-type {\n",
              "        vertical-align: middle;\n",
              "    }\n",
              "\n",
              "    .dataframe tbody tr th {\n",
              "        vertical-align: top;\n",
              "    }\n",
              "\n",
              "    .dataframe thead th {\n",
              "        text-align: right;\n",
              "    }\n",
              "</style>\n",
              "<table border=\"1\" class=\"dataframe\">\n",
              "  <thead>\n",
              "    <tr style=\"text-align: right;\">\n",
              "      <th></th>\n",
              "      <th>Quantity</th>\n",
              "      <th>UnitPrice</th>\n",
              "      <th>CustomerID</th>\n",
              "    </tr>\n",
              "  </thead>\n",
              "  <tbody>\n",
              "    <tr>\n",
              "      <th>count</th>\n",
              "      <td>540455.000000</td>\n",
              "      <td>540455.000000</td>\n",
              "      <td>540455.000000</td>\n",
              "    </tr>\n",
              "    <tr>\n",
              "      <th>mean</th>\n",
              "      <td>9.603129</td>\n",
              "      <td>4.623519</td>\n",
              "      <td>11507.853516</td>\n",
              "    </tr>\n",
              "    <tr>\n",
              "      <th>std</th>\n",
              "      <td>218.007598</td>\n",
              "      <td>96.889628</td>\n",
              "      <td>6760.791992</td>\n",
              "    </tr>\n",
              "    <tr>\n",
              "      <th>min</th>\n",
              "      <td>-80995.000000</td>\n",
              "      <td>-11062.060000</td>\n",
              "      <td>0.000000</td>\n",
              "    </tr>\n",
              "    <tr>\n",
              "      <th>25%</th>\n",
              "      <td>1.000000</td>\n",
              "      <td>1.250000</td>\n",
              "      <td>12367.000000</td>\n",
              "    </tr>\n",
              "    <tr>\n",
              "      <th>50%</th>\n",
              "      <td>3.000000</td>\n",
              "      <td>2.080000</td>\n",
              "      <td>14390.000000</td>\n",
              "    </tr>\n",
              "    <tr>\n",
              "      <th>75%</th>\n",
              "      <td>10.000000</td>\n",
              "      <td>4.130000</td>\n",
              "      <td>16261.000000</td>\n",
              "    </tr>\n",
              "    <tr>\n",
              "      <th>max</th>\n",
              "      <td>80995.000000</td>\n",
              "      <td>38970.000000</td>\n",
              "      <td>18287.000000</td>\n",
              "    </tr>\n",
              "  </tbody>\n",
              "</table>\n",
              "</div>\n",
              "    <div class=\"colab-df-buttons\">\n",
              "\n",
              "  <div class=\"colab-df-container\">\n",
              "    <button class=\"colab-df-convert\" onclick=\"convertToInteractive('df-19ab112d-9676-4497-83e6-93b2d518bb1f')\"\n",
              "            title=\"Convert this dataframe to an interactive table.\"\n",
              "            style=\"display:none;\">\n",
              "\n",
              "  <svg xmlns=\"http://www.w3.org/2000/svg\" height=\"24px\" viewBox=\"0 -960 960 960\">\n",
              "    <path d=\"M120-120v-720h720v720H120Zm60-500h600v-160H180v160Zm220 220h160v-160H400v160Zm0 220h160v-160H400v160ZM180-400h160v-160H180v160Zm440 0h160v-160H620v160ZM180-180h160v-160H180v160Zm440 0h160v-160H620v160Z\"/>\n",
              "  </svg>\n",
              "    </button>\n",
              "\n",
              "  <style>\n",
              "    .colab-df-container {\n",
              "      display:flex;\n",
              "      gap: 12px;\n",
              "    }\n",
              "\n",
              "    .colab-df-convert {\n",
              "      background-color: #E8F0FE;\n",
              "      border: none;\n",
              "      border-radius: 50%;\n",
              "      cursor: pointer;\n",
              "      display: none;\n",
              "      fill: #1967D2;\n",
              "      height: 32px;\n",
              "      padding: 0 0 0 0;\n",
              "      width: 32px;\n",
              "    }\n",
              "\n",
              "    .colab-df-convert:hover {\n",
              "      background-color: #E2EBFA;\n",
              "      box-shadow: 0px 1px 2px rgba(60, 64, 67, 0.3), 0px 1px 3px 1px rgba(60, 64, 67, 0.15);\n",
              "      fill: #174EA6;\n",
              "    }\n",
              "\n",
              "    .colab-df-buttons div {\n",
              "      margin-bottom: 4px;\n",
              "    }\n",
              "\n",
              "    [theme=dark] .colab-df-convert {\n",
              "      background-color: #3B4455;\n",
              "      fill: #D2E3FC;\n",
              "    }\n",
              "\n",
              "    [theme=dark] .colab-df-convert:hover {\n",
              "      background-color: #434B5C;\n",
              "      box-shadow: 0px 1px 3px 1px rgba(0, 0, 0, 0.15);\n",
              "      filter: drop-shadow(0px 1px 2px rgba(0, 0, 0, 0.3));\n",
              "      fill: #FFFFFF;\n",
              "    }\n",
              "  </style>\n",
              "\n",
              "    <script>\n",
              "      const buttonEl =\n",
              "        document.querySelector('#df-19ab112d-9676-4497-83e6-93b2d518bb1f button.colab-df-convert');\n",
              "      buttonEl.style.display =\n",
              "        google.colab.kernel.accessAllowed ? 'block' : 'none';\n",
              "\n",
              "      async function convertToInteractive(key) {\n",
              "        const element = document.querySelector('#df-19ab112d-9676-4497-83e6-93b2d518bb1f');\n",
              "        const dataTable =\n",
              "          await google.colab.kernel.invokeFunction('convertToInteractive',\n",
              "                                                    [key], {});\n",
              "        if (!dataTable) return;\n",
              "\n",
              "        const docLinkHtml = 'Like what you see? Visit the ' +\n",
              "          '<a target=\"_blank\" href=https://colab.research.google.com/notebooks/data_table.ipynb>data table notebook</a>'\n",
              "          + ' to learn more about interactive tables.';\n",
              "        element.innerHTML = '';\n",
              "        dataTable['output_type'] = 'display_data';\n",
              "        await google.colab.output.renderOutput(dataTable, element);\n",
              "        const docLink = document.createElement('div');\n",
              "        docLink.innerHTML = docLinkHtml;\n",
              "        element.appendChild(docLink);\n",
              "      }\n",
              "    </script>\n",
              "  </div>\n",
              "\n",
              "\n",
              "<div id=\"df-888f7111-0dda-4f01-9f02-871d81597efd\">\n",
              "  <button class=\"colab-df-quickchart\" onclick=\"quickchart('df-888f7111-0dda-4f01-9f02-871d81597efd')\"\n",
              "            title=\"Suggest charts\"\n",
              "            style=\"display:none;\">\n",
              "\n",
              "<svg xmlns=\"http://www.w3.org/2000/svg\" height=\"24px\"viewBox=\"0 0 24 24\"\n",
              "     width=\"24px\">\n",
              "    <g>\n",
              "        <path d=\"M19 3H5c-1.1 0-2 .9-2 2v14c0 1.1.9 2 2 2h14c1.1 0 2-.9 2-2V5c0-1.1-.9-2-2-2zM9 17H7v-7h2v7zm4 0h-2V7h2v10zm4 0h-2v-4h2v4z\"/>\n",
              "    </g>\n",
              "</svg>\n",
              "  </button>\n",
              "\n",
              "<style>\n",
              "  .colab-df-quickchart {\n",
              "      --bg-color: #E8F0FE;\n",
              "      --fill-color: #1967D2;\n",
              "      --hover-bg-color: #E2EBFA;\n",
              "      --hover-fill-color: #174EA6;\n",
              "      --disabled-fill-color: #AAA;\n",
              "      --disabled-bg-color: #DDD;\n",
              "  }\n",
              "\n",
              "  [theme=dark] .colab-df-quickchart {\n",
              "      --bg-color: #3B4455;\n",
              "      --fill-color: #D2E3FC;\n",
              "      --hover-bg-color: #434B5C;\n",
              "      --hover-fill-color: #FFFFFF;\n",
              "      --disabled-bg-color: #3B4455;\n",
              "      --disabled-fill-color: #666;\n",
              "  }\n",
              "\n",
              "  .colab-df-quickchart {\n",
              "    background-color: var(--bg-color);\n",
              "    border: none;\n",
              "    border-radius: 50%;\n",
              "    cursor: pointer;\n",
              "    display: none;\n",
              "    fill: var(--fill-color);\n",
              "    height: 32px;\n",
              "    padding: 0;\n",
              "    width: 32px;\n",
              "  }\n",
              "\n",
              "  .colab-df-quickchart:hover {\n",
              "    background-color: var(--hover-bg-color);\n",
              "    box-shadow: 0 1px 2px rgba(60, 64, 67, 0.3), 0 1px 3px 1px rgba(60, 64, 67, 0.15);\n",
              "    fill: var(--button-hover-fill-color);\n",
              "  }\n",
              "\n",
              "  .colab-df-quickchart-complete:disabled,\n",
              "  .colab-df-quickchart-complete:disabled:hover {\n",
              "    background-color: var(--disabled-bg-color);\n",
              "    fill: var(--disabled-fill-color);\n",
              "    box-shadow: none;\n",
              "  }\n",
              "\n",
              "  .colab-df-spinner {\n",
              "    border: 2px solid var(--fill-color);\n",
              "    border-color: transparent;\n",
              "    border-bottom-color: var(--fill-color);\n",
              "    animation:\n",
              "      spin 1s steps(1) infinite;\n",
              "  }\n",
              "\n",
              "  @keyframes spin {\n",
              "    0% {\n",
              "      border-color: transparent;\n",
              "      border-bottom-color: var(--fill-color);\n",
              "      border-left-color: var(--fill-color);\n",
              "    }\n",
              "    20% {\n",
              "      border-color: transparent;\n",
              "      border-left-color: var(--fill-color);\n",
              "      border-top-color: var(--fill-color);\n",
              "    }\n",
              "    30% {\n",
              "      border-color: transparent;\n",
              "      border-left-color: var(--fill-color);\n",
              "      border-top-color: var(--fill-color);\n",
              "      border-right-color: var(--fill-color);\n",
              "    }\n",
              "    40% {\n",
              "      border-color: transparent;\n",
              "      border-right-color: var(--fill-color);\n",
              "      border-top-color: var(--fill-color);\n",
              "    }\n",
              "    60% {\n",
              "      border-color: transparent;\n",
              "      border-right-color: var(--fill-color);\n",
              "    }\n",
              "    80% {\n",
              "      border-color: transparent;\n",
              "      border-right-color: var(--fill-color);\n",
              "      border-bottom-color: var(--fill-color);\n",
              "    }\n",
              "    90% {\n",
              "      border-color: transparent;\n",
              "      border-bottom-color: var(--fill-color);\n",
              "    }\n",
              "  }\n",
              "</style>\n",
              "\n",
              "  <script>\n",
              "    async function quickchart(key) {\n",
              "      const quickchartButtonEl =\n",
              "        document.querySelector('#' + key + ' button');\n",
              "      quickchartButtonEl.disabled = true;  // To prevent multiple clicks.\n",
              "      quickchartButtonEl.classList.add('colab-df-spinner');\n",
              "      try {\n",
              "        const charts = await google.colab.kernel.invokeFunction(\n",
              "            'suggestCharts', [key], {});\n",
              "      } catch (error) {\n",
              "        console.error('Error during call to suggestCharts:', error);\n",
              "      }\n",
              "      quickchartButtonEl.classList.remove('colab-df-spinner');\n",
              "      quickchartButtonEl.classList.add('colab-df-quickchart-complete');\n",
              "    }\n",
              "    (() => {\n",
              "      let quickchartButtonEl =\n",
              "        document.querySelector('#df-888f7111-0dda-4f01-9f02-871d81597efd button');\n",
              "      quickchartButtonEl.style.display =\n",
              "        google.colab.kernel.accessAllowed ? 'block' : 'none';\n",
              "    })();\n",
              "  </script>\n",
              "</div>\n",
              "\n",
              "    </div>\n",
              "  </div>\n"
            ],
            "application/vnd.google.colaboratory.intrinsic+json": {
              "type": "dataframe",
              "summary": "{\n  \"name\": \"df\",\n  \"rows\": 8,\n  \"fields\": [\n    {\n      \"column\": \"Quantity\",\n      \"properties\": {\n        \"dtype\": \"number\",\n        \"std\": 195911.0336344623,\n        \"min\": -80995.0,\n        \"max\": 540455.0,\n        \"num_unique_values\": 8,\n        \"samples\": [\n          9.603128845139743,\n          3.0,\n          540455.0\n        ],\n        \"semantic_type\": \"\",\n        \"description\": \"\"\n      }\n    },\n    {\n      \"column\": \"UnitPrice\",\n      \"properties\": {\n        \"dtype\": \"number\",\n        \"std\": 190239.5508764772,\n        \"min\": -11062.06,\n        \"max\": 540455.0,\n        \"num_unique_values\": 8,\n        \"samples\": [\n          4.623519023785516,\n          2.08,\n          540455.0\n        ],\n        \"semantic_type\": \"\",\n        \"description\": \"\"\n      }\n    },\n    {\n      \"column\": \"CustomerID\",\n      \"properties\": {\n        \"dtype\": \"number\",\n        \"std\": 187149.3502712347,\n        \"min\": 0.0,\n        \"max\": 540455.0,\n        \"num_unique_values\": 8,\n        \"samples\": [\n          11507.853515625,\n          14390.0,\n          540455.0\n        ],\n        \"semantic_type\": \"\",\n        \"description\": \"\"\n      }\n    }\n  ]\n}"
            }
          },
          "metadata": {},
          "execution_count": 230
        }
      ]
    },
    {
      "cell_type": "code",
      "source": [
        "df['Quantity'].sort_values(ascending=False).head(5)"
      ],
      "metadata": {
        "colab": {
          "base_uri": "https://localhost:8080/"
        },
        "id": "qB6Y2eHZdWPl",
        "outputId": "94ebba22-11b9-4795-b0ce-c9f841365e28"
      },
      "execution_count": 231,
      "outputs": [
        {
          "output_type": "execute_result",
          "data": {
            "text/plain": [
              "540421    80995\n",
              "61619     74215\n",
              "502122    12540\n",
              "421632     4800\n",
              "206121     4300\n",
              "Name: Quantity, dtype: int32"
            ]
          },
          "metadata": {},
          "execution_count": 231
        }
      ]
    },
    {
      "cell_type": "code",
      "source": [
        "df['UnitPrice'].sort_values(ascending=False).head(10)"
      ],
      "metadata": {
        "colab": {
          "base_uri": "https://localhost:8080/"
        },
        "id": "cbhVh4JyeEex",
        "outputId": "1555be97-2832-4e15-eccb-5e9690c200bd"
      },
      "execution_count": 232,
      "outputs": [
        {
          "output_type": "execute_result",
          "data": {
            "text/plain": [
              "222681    38970.00\n",
              "524602    17836.46\n",
              "43702     16888.02\n",
              "43703     16453.71\n",
              "15016     13541.33\n",
              "15017     13541.33\n",
              "16356     13541.33\n",
              "16232     13474.79\n",
              "524601    11586.50\n",
              "299982    11062.06\n",
              "Name: UnitPrice, dtype: float64"
            ]
          },
          "metadata": {},
          "execution_count": 232
        }
      ]
    },
    {
      "cell_type": "code",
      "source": [
        "df = df[(df['Quantity'] > 0) & (df['Quantity'] < 200)]\n",
        "df = df[(df['UnitPrice'] > 0) & (df['UnitPrice'] < 300)]"
      ],
      "metadata": {
        "id": "hVOelowbMUpG"
      },
      "execution_count": 233,
      "outputs": []
    },
    {
      "cell_type": "code",
      "source": [
        "# 약 1만개 이상치 삭제\n",
        "df.shape"
      ],
      "metadata": {
        "colab": {
          "base_uri": "https://localhost:8080/"
        },
        "id": "gqyWd-kCM-sr",
        "outputId": "cbe883de-779a-452d-b8fd-8bbab3ca54d7"
      },
      "execution_count": 234,
      "outputs": [
        {
          "output_type": "execute_result",
          "data": {
            "text/plain": [
              "(527707, 8)"
            ]
          },
          "metadata": {},
          "execution_count": 234
        }
      ]
    },
    {
      "cell_type": "markdown",
      "source": [
        "## 미션 1) 모집단과 표본 추출을 하고 TotalPrice에 대해 비교해 주세요.\n",
        "데이터셋에서 무작위로 1000개의 표본을 추출하고, 추출된 표본과 전체 데이터셋의 'TotalPrice'에 대해 평균과 표준편차를 비교하세요. \\\n",
        "이를 통해 모집단과 표본의 차이를 설명하고, 중심극한정리가 어떻게 적용되는지 설명하세요.\n",
        "\n",
        "- pandas 의 sample 을 활용할 수 있으며, pandas 의 기술 통계 기능을 활용해 볼 수 있습니다.\n",
        "\n",
        "아래의 코드를 활용하세요.\n",
        "\n",
        "```python\n",
        "# 주문 날짜 데이터 전처리\n",
        "df[\"InvoiceDate\"] = pd.to_datetime(df[\"InvoiceDate\"].astype(str))\n",
        "df[\"InvoiceMonth\"] = df[\"InvoiceDate\"].dt.month\n",
        "\n",
        "# 데이터 타입 변경\n",
        "df[\"Country\"] = df[\"Country\"].astype(str)\n",
        "\n",
        "# 주문 가격\n",
        "df[\"TotalPrice\"] = df[\"Quantity\"] * df[\"UnitPrice\"]\n",
        "df.head()\n",
        "```"
      ],
      "metadata": {
        "id": "9K0lJHcPHnON"
      }
    },
    {
      "cell_type": "code",
      "source": [
        "# 주문 날짜 데이터 전처리\n",
        "df[\"InvoiceDate\"] = pd.to_datetime(df[\"InvoiceDate\"].astype(str))\n",
        "df[\"InvoiceMonth\"] = df[\"InvoiceDate\"].dt.month\n",
        "\n",
        "# 데이터 타입 변경\n",
        "df[\"Country\"] = df[\"Country\"].astype(str)\n",
        "df[\"CustomerID\"] = df[\"CustomerID\"].astype(int)\n",
        "\n",
        "# 주문 가격\n",
        "df[\"TotalPrice\"] = df[\"Quantity\"] * df[\"UnitPrice\"]\n",
        "df.head()"
      ],
      "metadata": {
        "id": "T9PcGbArHl9y",
        "colab": {
          "base_uri": "https://localhost:8080/",
          "height": 206
        },
        "outputId": "5811961c-faaa-410e-8bee-1c725599afcb"
      },
      "execution_count": 235,
      "outputs": [
        {
          "output_type": "execute_result",
          "data": {
            "text/plain": [
              "  InvoiceNo StockCode                          Description  Quantity  \\\n",
              "0    536365    85123A   WHITE HANGING HEART T-LIGHT HOLDER         6   \n",
              "1    536365     71053                  WHITE METAL LANTERN         6   \n",
              "2    536365    84406B       CREAM CUPID HEARTS COAT HANGER         8   \n",
              "3    536365    84029G  KNITTED UNION FLAG HOT WATER BOTTLE         6   \n",
              "4    536365    84029E       RED WOOLLY HOTTIE WHITE HEART.         6   \n",
              "\n",
              "          InvoiceDate  UnitPrice  CustomerID         Country  InvoiceMonth  \\\n",
              "0 2010-12-01 08:26:00       2.55       17850  United Kingdom            12   \n",
              "1 2010-12-01 08:26:00       3.39       17850  United Kingdom            12   \n",
              "2 2010-12-01 08:26:00       2.75       17850  United Kingdom            12   \n",
              "3 2010-12-01 08:26:00       3.39       17850  United Kingdom            12   \n",
              "4 2010-12-01 08:26:00       3.39       17850  United Kingdom            12   \n",
              "\n",
              "   TotalPrice  \n",
              "0       15.30  \n",
              "1       20.34  \n",
              "2       22.00  \n",
              "3       20.34  \n",
              "4       20.34  "
            ],
            "text/html": [
              "\n",
              "  <div id=\"df-ee4c81cb-1513-44f9-a80f-7cd4d2a045d8\" class=\"colab-df-container\">\n",
              "    <div>\n",
              "<style scoped>\n",
              "    .dataframe tbody tr th:only-of-type {\n",
              "        vertical-align: middle;\n",
              "    }\n",
              "\n",
              "    .dataframe tbody tr th {\n",
              "        vertical-align: top;\n",
              "    }\n",
              "\n",
              "    .dataframe thead th {\n",
              "        text-align: right;\n",
              "    }\n",
              "</style>\n",
              "<table border=\"1\" class=\"dataframe\">\n",
              "  <thead>\n",
              "    <tr style=\"text-align: right;\">\n",
              "      <th></th>\n",
              "      <th>InvoiceNo</th>\n",
              "      <th>StockCode</th>\n",
              "      <th>Description</th>\n",
              "      <th>Quantity</th>\n",
              "      <th>InvoiceDate</th>\n",
              "      <th>UnitPrice</th>\n",
              "      <th>CustomerID</th>\n",
              "      <th>Country</th>\n",
              "      <th>InvoiceMonth</th>\n",
              "      <th>TotalPrice</th>\n",
              "    </tr>\n",
              "  </thead>\n",
              "  <tbody>\n",
              "    <tr>\n",
              "      <th>0</th>\n",
              "      <td>536365</td>\n",
              "      <td>85123A</td>\n",
              "      <td>WHITE HANGING HEART T-LIGHT HOLDER</td>\n",
              "      <td>6</td>\n",
              "      <td>2010-12-01 08:26:00</td>\n",
              "      <td>2.55</td>\n",
              "      <td>17850</td>\n",
              "      <td>United Kingdom</td>\n",
              "      <td>12</td>\n",
              "      <td>15.30</td>\n",
              "    </tr>\n",
              "    <tr>\n",
              "      <th>1</th>\n",
              "      <td>536365</td>\n",
              "      <td>71053</td>\n",
              "      <td>WHITE METAL LANTERN</td>\n",
              "      <td>6</td>\n",
              "      <td>2010-12-01 08:26:00</td>\n",
              "      <td>3.39</td>\n",
              "      <td>17850</td>\n",
              "      <td>United Kingdom</td>\n",
              "      <td>12</td>\n",
              "      <td>20.34</td>\n",
              "    </tr>\n",
              "    <tr>\n",
              "      <th>2</th>\n",
              "      <td>536365</td>\n",
              "      <td>84406B</td>\n",
              "      <td>CREAM CUPID HEARTS COAT HANGER</td>\n",
              "      <td>8</td>\n",
              "      <td>2010-12-01 08:26:00</td>\n",
              "      <td>2.75</td>\n",
              "      <td>17850</td>\n",
              "      <td>United Kingdom</td>\n",
              "      <td>12</td>\n",
              "      <td>22.00</td>\n",
              "    </tr>\n",
              "    <tr>\n",
              "      <th>3</th>\n",
              "      <td>536365</td>\n",
              "      <td>84029G</td>\n",
              "      <td>KNITTED UNION FLAG HOT WATER BOTTLE</td>\n",
              "      <td>6</td>\n",
              "      <td>2010-12-01 08:26:00</td>\n",
              "      <td>3.39</td>\n",
              "      <td>17850</td>\n",
              "      <td>United Kingdom</td>\n",
              "      <td>12</td>\n",
              "      <td>20.34</td>\n",
              "    </tr>\n",
              "    <tr>\n",
              "      <th>4</th>\n",
              "      <td>536365</td>\n",
              "      <td>84029E</td>\n",
              "      <td>RED WOOLLY HOTTIE WHITE HEART.</td>\n",
              "      <td>6</td>\n",
              "      <td>2010-12-01 08:26:00</td>\n",
              "      <td>3.39</td>\n",
              "      <td>17850</td>\n",
              "      <td>United Kingdom</td>\n",
              "      <td>12</td>\n",
              "      <td>20.34</td>\n",
              "    </tr>\n",
              "  </tbody>\n",
              "</table>\n",
              "</div>\n",
              "    <div class=\"colab-df-buttons\">\n",
              "\n",
              "  <div class=\"colab-df-container\">\n",
              "    <button class=\"colab-df-convert\" onclick=\"convertToInteractive('df-ee4c81cb-1513-44f9-a80f-7cd4d2a045d8')\"\n",
              "            title=\"Convert this dataframe to an interactive table.\"\n",
              "            style=\"display:none;\">\n",
              "\n",
              "  <svg xmlns=\"http://www.w3.org/2000/svg\" height=\"24px\" viewBox=\"0 -960 960 960\">\n",
              "    <path d=\"M120-120v-720h720v720H120Zm60-500h600v-160H180v160Zm220 220h160v-160H400v160Zm0 220h160v-160H400v160ZM180-400h160v-160H180v160Zm440 0h160v-160H620v160ZM180-180h160v-160H180v160Zm440 0h160v-160H620v160Z\"/>\n",
              "  </svg>\n",
              "    </button>\n",
              "\n",
              "  <style>\n",
              "    .colab-df-container {\n",
              "      display:flex;\n",
              "      gap: 12px;\n",
              "    }\n",
              "\n",
              "    .colab-df-convert {\n",
              "      background-color: #E8F0FE;\n",
              "      border: none;\n",
              "      border-radius: 50%;\n",
              "      cursor: pointer;\n",
              "      display: none;\n",
              "      fill: #1967D2;\n",
              "      height: 32px;\n",
              "      padding: 0 0 0 0;\n",
              "      width: 32px;\n",
              "    }\n",
              "\n",
              "    .colab-df-convert:hover {\n",
              "      background-color: #E2EBFA;\n",
              "      box-shadow: 0px 1px 2px rgba(60, 64, 67, 0.3), 0px 1px 3px 1px rgba(60, 64, 67, 0.15);\n",
              "      fill: #174EA6;\n",
              "    }\n",
              "\n",
              "    .colab-df-buttons div {\n",
              "      margin-bottom: 4px;\n",
              "    }\n",
              "\n",
              "    [theme=dark] .colab-df-convert {\n",
              "      background-color: #3B4455;\n",
              "      fill: #D2E3FC;\n",
              "    }\n",
              "\n",
              "    [theme=dark] .colab-df-convert:hover {\n",
              "      background-color: #434B5C;\n",
              "      box-shadow: 0px 1px 3px 1px rgba(0, 0, 0, 0.15);\n",
              "      filter: drop-shadow(0px 1px 2px rgba(0, 0, 0, 0.3));\n",
              "      fill: #FFFFFF;\n",
              "    }\n",
              "  </style>\n",
              "\n",
              "    <script>\n",
              "      const buttonEl =\n",
              "        document.querySelector('#df-ee4c81cb-1513-44f9-a80f-7cd4d2a045d8 button.colab-df-convert');\n",
              "      buttonEl.style.display =\n",
              "        google.colab.kernel.accessAllowed ? 'block' : 'none';\n",
              "\n",
              "      async function convertToInteractive(key) {\n",
              "        const element = document.querySelector('#df-ee4c81cb-1513-44f9-a80f-7cd4d2a045d8');\n",
              "        const dataTable =\n",
              "          await google.colab.kernel.invokeFunction('convertToInteractive',\n",
              "                                                    [key], {});\n",
              "        if (!dataTable) return;\n",
              "\n",
              "        const docLinkHtml = 'Like what you see? Visit the ' +\n",
              "          '<a target=\"_blank\" href=https://colab.research.google.com/notebooks/data_table.ipynb>data table notebook</a>'\n",
              "          + ' to learn more about interactive tables.';\n",
              "        element.innerHTML = '';\n",
              "        dataTable['output_type'] = 'display_data';\n",
              "        await google.colab.output.renderOutput(dataTable, element);\n",
              "        const docLink = document.createElement('div');\n",
              "        docLink.innerHTML = docLinkHtml;\n",
              "        element.appendChild(docLink);\n",
              "      }\n",
              "    </script>\n",
              "  </div>\n",
              "\n",
              "\n",
              "<div id=\"df-6817071a-7dfb-4267-8f70-f52746f2af13\">\n",
              "  <button class=\"colab-df-quickchart\" onclick=\"quickchart('df-6817071a-7dfb-4267-8f70-f52746f2af13')\"\n",
              "            title=\"Suggest charts\"\n",
              "            style=\"display:none;\">\n",
              "\n",
              "<svg xmlns=\"http://www.w3.org/2000/svg\" height=\"24px\"viewBox=\"0 0 24 24\"\n",
              "     width=\"24px\">\n",
              "    <g>\n",
              "        <path d=\"M19 3H5c-1.1 0-2 .9-2 2v14c0 1.1.9 2 2 2h14c1.1 0 2-.9 2-2V5c0-1.1-.9-2-2-2zM9 17H7v-7h2v7zm4 0h-2V7h2v10zm4 0h-2v-4h2v4z\"/>\n",
              "    </g>\n",
              "</svg>\n",
              "  </button>\n",
              "\n",
              "<style>\n",
              "  .colab-df-quickchart {\n",
              "      --bg-color: #E8F0FE;\n",
              "      --fill-color: #1967D2;\n",
              "      --hover-bg-color: #E2EBFA;\n",
              "      --hover-fill-color: #174EA6;\n",
              "      --disabled-fill-color: #AAA;\n",
              "      --disabled-bg-color: #DDD;\n",
              "  }\n",
              "\n",
              "  [theme=dark] .colab-df-quickchart {\n",
              "      --bg-color: #3B4455;\n",
              "      --fill-color: #D2E3FC;\n",
              "      --hover-bg-color: #434B5C;\n",
              "      --hover-fill-color: #FFFFFF;\n",
              "      --disabled-bg-color: #3B4455;\n",
              "      --disabled-fill-color: #666;\n",
              "  }\n",
              "\n",
              "  .colab-df-quickchart {\n",
              "    background-color: var(--bg-color);\n",
              "    border: none;\n",
              "    border-radius: 50%;\n",
              "    cursor: pointer;\n",
              "    display: none;\n",
              "    fill: var(--fill-color);\n",
              "    height: 32px;\n",
              "    padding: 0;\n",
              "    width: 32px;\n",
              "  }\n",
              "\n",
              "  .colab-df-quickchart:hover {\n",
              "    background-color: var(--hover-bg-color);\n",
              "    box-shadow: 0 1px 2px rgba(60, 64, 67, 0.3), 0 1px 3px 1px rgba(60, 64, 67, 0.15);\n",
              "    fill: var(--button-hover-fill-color);\n",
              "  }\n",
              "\n",
              "  .colab-df-quickchart-complete:disabled,\n",
              "  .colab-df-quickchart-complete:disabled:hover {\n",
              "    background-color: var(--disabled-bg-color);\n",
              "    fill: var(--disabled-fill-color);\n",
              "    box-shadow: none;\n",
              "  }\n",
              "\n",
              "  .colab-df-spinner {\n",
              "    border: 2px solid var(--fill-color);\n",
              "    border-color: transparent;\n",
              "    border-bottom-color: var(--fill-color);\n",
              "    animation:\n",
              "      spin 1s steps(1) infinite;\n",
              "  }\n",
              "\n",
              "  @keyframes spin {\n",
              "    0% {\n",
              "      border-color: transparent;\n",
              "      border-bottom-color: var(--fill-color);\n",
              "      border-left-color: var(--fill-color);\n",
              "    }\n",
              "    20% {\n",
              "      border-color: transparent;\n",
              "      border-left-color: var(--fill-color);\n",
              "      border-top-color: var(--fill-color);\n",
              "    }\n",
              "    30% {\n",
              "      border-color: transparent;\n",
              "      border-left-color: var(--fill-color);\n",
              "      border-top-color: var(--fill-color);\n",
              "      border-right-color: var(--fill-color);\n",
              "    }\n",
              "    40% {\n",
              "      border-color: transparent;\n",
              "      border-right-color: var(--fill-color);\n",
              "      border-top-color: var(--fill-color);\n",
              "    }\n",
              "    60% {\n",
              "      border-color: transparent;\n",
              "      border-right-color: var(--fill-color);\n",
              "    }\n",
              "    80% {\n",
              "      border-color: transparent;\n",
              "      border-right-color: var(--fill-color);\n",
              "      border-bottom-color: var(--fill-color);\n",
              "    }\n",
              "    90% {\n",
              "      border-color: transparent;\n",
              "      border-bottom-color: var(--fill-color);\n",
              "    }\n",
              "  }\n",
              "</style>\n",
              "\n",
              "  <script>\n",
              "    async function quickchart(key) {\n",
              "      const quickchartButtonEl =\n",
              "        document.querySelector('#' + key + ' button');\n",
              "      quickchartButtonEl.disabled = true;  // To prevent multiple clicks.\n",
              "      quickchartButtonEl.classList.add('colab-df-spinner');\n",
              "      try {\n",
              "        const charts = await google.colab.kernel.invokeFunction(\n",
              "            'suggestCharts', [key], {});\n",
              "      } catch (error) {\n",
              "        console.error('Error during call to suggestCharts:', error);\n",
              "      }\n",
              "      quickchartButtonEl.classList.remove('colab-df-spinner');\n",
              "      quickchartButtonEl.classList.add('colab-df-quickchart-complete');\n",
              "    }\n",
              "    (() => {\n",
              "      let quickchartButtonEl =\n",
              "        document.querySelector('#df-6817071a-7dfb-4267-8f70-f52746f2af13 button');\n",
              "      quickchartButtonEl.style.display =\n",
              "        google.colab.kernel.accessAllowed ? 'block' : 'none';\n",
              "    })();\n",
              "  </script>\n",
              "</div>\n",
              "\n",
              "    </div>\n",
              "  </div>\n"
            ],
            "application/vnd.google.colaboratory.intrinsic+json": {
              "type": "dataframe",
              "variable_name": "df"
            }
          },
          "metadata": {},
          "execution_count": 235
        }
      ]
    },
    {
      "cell_type": "code",
      "source": [
        "df['TotalPrice'].sort_values(ascending=False).head(5)"
      ],
      "metadata": {
        "colab": {
          "base_uri": "https://localhost:8080/"
        },
        "id": "QghRYdlveycV",
        "outputId": "ad49dda3-15bf-4b9c-da25-d7f9eaa100ac"
      },
      "execution_count": 236,
      "outputs": [
        {
          "output_type": "execute_result",
          "data": {
            "text/plain": [
              "247994    2598.75\n",
              "411233    2496.00\n",
              "16441     2353.68\n",
              "282261    2102.40\n",
              "132910    2076.80\n",
              "Name: TotalPrice, dtype: float64"
            ]
          },
          "metadata": {},
          "execution_count": 236
        }
      ]
    },
    {
      "cell_type": "code",
      "source": [
        "# 약 30개 이상치 추가 삭제\n",
        "\n",
        "df = df[df['TotalPrice'] < 1000]"
      ],
      "metadata": {
        "id": "0HVhsHZWe14T"
      },
      "execution_count": 237,
      "outputs": []
    },
    {
      "cell_type": "code",
      "source": [
        "df.shape"
      ],
      "metadata": {
        "colab": {
          "base_uri": "https://localhost:8080/"
        },
        "id": "YZ0s2HMRBAye",
        "outputId": "4d466640-a0d1-49b8-d43e-6d831a40308b"
      },
      "execution_count": 238,
      "outputs": [
        {
          "output_type": "execute_result",
          "data": {
            "text/plain": [
              "(527664, 10)"
            ]
          },
          "metadata": {},
          "execution_count": 238
        }
      ]
    },
    {
      "cell_type": "code",
      "source": [
        "sample_data = df.sample(n=1000, random_state=15)\n",
        "\n",
        "total_mean = df['TotalPrice'].mean()\n",
        "total_std = df['TotalPrice'].std()\n",
        "\n",
        "sample_mean = sample_data['TotalPrice'].mean()\n",
        "sample_std = sample_data['TotalPrice'].std()\n",
        "\n",
        "fig, ax = plt.subplots()\n",
        "\n",
        "width = 0.4\n",
        "\n",
        "labels = ['Mean', 'Standard Deviation']\n",
        "x = np.arange(len(labels))\n",
        "\n",
        "# 막대 그리기\n",
        "bar1 = ax.bar(x - width/2, [total_mean, total_std], width, label='Total Data')\n",
        "bar2 = ax.bar(x + width/2, [sample_mean, sample_std], width, label='Sample Data')\n",
        "\n",
        "# 레이블, 제목, 범례 추가\n",
        "ax.set_xlabel('Metrics')\n",
        "ax.set_ylabel('Values')\n",
        "ax.set_title('Comparison of Total and Sample Data')\n",
        "ax.set_xticks(x)\n",
        "ax.set_xticklabels(labels)\n",
        "ax.legend()\n",
        "\n",
        "ax.bar_label(bar1, padding=3)\n",
        "ax.bar_label(bar2, padding=3)\n",
        "\n",
        "# 차트 표시\n",
        "plt.show()"
      ],
      "metadata": {
        "colab": {
          "base_uri": "https://localhost:8080/",
          "height": 469
        },
        "id": "OsAZ6mXONwXw",
        "outputId": "4921a327-d447-4dac-dbe8-100e671d8ddc"
      },
      "execution_count": 239,
      "outputs": [
        {
          "output_type": "display_data",
          "data": {
            "text/plain": [
              "<Figure size 640x480 with 1 Axes>"
            ],
            "image/png": "[encoded data removed]"
          },
          "metadata": {
            "image/png": {
              "width": 561,
              "height": 452
            }
          }
        }
      ]
    },
    {
      "cell_type": "markdown",
      "source": [
        "- 모집단과 표본의 평균은 약간 차이가 남\n",
        "- 중심극한정리에 따라 표본 평균이 모집단 평균에 근사하게 나오는데 이는 중심극한 정리가 잘 적용되었음을 알 수 있음.\n",
        "- 표준편차가 다른 이유는 모집단에는 전체 데이터가 있어 다양한 값들이 포함되어 있기 때문에 차이가 큼"
      ],
      "metadata": {
        "id": "gSbx38cuR7GV"
      }
    },
    {
      "cell_type": "markdown",
      "source": [
        "## 미션2) 'Country' 변수를 바탕으로 가장 빈도가 높은 두 개의 국가를 선택하고, 각 국가의 'TotalPrice' 평균에 차이가 있는지 검증하세요. 독립표본 t-검정을 사용하여 가설을 설정하고 검정하며, 1종 오류와 2종 오류에 대해 설명하세요.\n",
        "\n",
        "\n",
        "* 미션 진행 방법\n",
        "    <br>1) 데이터 로드 후 'TotalPrice'와 'Country' 컬럼을 찾아주세요.\n",
        "    <br>2) 데이터셋에서 주문이 가장 많은 상위 두 국가를 찾아주세요.\n",
        "    <br>3) 통계적 검증 수행하기\n",
        "    <br>4) 각 국가의 'TotalPrice' 평균을 계산하세요.\n",
        "    <br>5) 독립표본 t-검정을 사용하여 두 국가 간 'TotalPrice' 평균의 차이가 통계적으로 유의미한지 검증하세요. 이 때, scipy.stats 라이브러리의 ttest_ind 함수를 사용할 수 있습니다. equal_var=False 파라미터를 설정하여 두 집단의 분산이 다르다고 가정하세요.\n",
        "    <br>6) t-통계량과 p-값을 해석하여 결과를 설명하세요. 1종 오류와 2종 오류의 개념을 설명하고, 해당 데이터셋에 적용하여 설명해 주세요."
      ],
      "metadata": {
        "id": "KJoQ5gYYHqvY"
      }
    },
    {
      "cell_type": "code",
      "source": [
        "# 2) 데이터셋에서 주문이 가장 많은 상위 두 국가를 찾아주세요. 영국, 독일\n",
        "\n",
        "df['Country'].value_counts().head(2)"
      ],
      "metadata": {
        "id": "7JDKU9PRHSoZ",
        "colab": {
          "base_uri": "https://localhost:8080/"
        },
        "outputId": "a7bec60e-6983-4e5c-fde8-4bb8c1bafe55"
      },
      "execution_count": 240,
      "outputs": [
        {
          "output_type": "execute_result",
          "data": {
            "text/plain": [
              "Country\n",
              "United Kingdom    483280\n",
              "Germany             9026\n",
              "Name: count, dtype: int64"
            ]
          },
          "metadata": {},
          "execution_count": 240
        }
      ]
    },
    {
      "cell_type": "code",
      "source": [
        "# 4) 각 국가의 'TotalPrice' 평균을 계산하세요.\n",
        "\n",
        "uk_data = df[df['Country'] == 'United Kingdom']\n",
        "ger_data = df[df['Country'] == 'Germany']\n",
        "\n",
        "uk_mean = uk_data['TotalPrice'].mean()\n",
        "ger_mean = ger_data['TotalPrice'].mean()\n",
        "\n",
        "print(f\"영국의 Total Price 평균 : {uk_mean:0.3f}\")\n",
        "print(f\"독일의 Total Price 평균 : {ger_mean:0.3f}\")"
      ],
      "metadata": {
        "colab": {
          "base_uri": "https://localhost:8080/"
        },
        "id": "ntGzMXgOU40N",
        "outputId": "3c46f39e-15f7-4cbb-b05e-58254b6864df"
      },
      "execution_count": 241,
      "outputs": [
        {
          "output_type": "stream",
          "name": "stdout",
          "text": [
            "영국의 Total Price 평균 : 15.610\n",
            "독일의 Total Price 평균 : 24.912\n"
          ]
        }
      ]
    },
    {
      "cell_type": "code",
      "source": [
        "# 5) 독립표본 t-검정을 사용하여 두 국가 간 'TotalPrice' 평균의 차이가 통계적으로 유의미한지 검증하세요.\n",
        "# 이 때, scipy.stats 라이브러리의 ttest_ind 함수를 사용할 수 있습니다. equal_var=False 파라미터를 설정하여 두 집단의 분산이 다르다고 가정하세요.\n",
        "\n",
        "from scipy.stats import ttest_ind\n",
        "\n",
        "uk_total_price = uk_data.loc[uk_data['Country'] == 'United Kingdom', 'TotalPrice']\n",
        "germany_total_price = ger_data.loc[ger_data['Country'] == 'Germany', 'TotalPrice']\n",
        "\n",
        "t_statistic, p_value = ttest_ind(uk_total_price, germany_total_price, equal_var=False)\n",
        "\n",
        "print(f\"t-statistic: {t_statistic}\")\n",
        "print(f\"p-value: {p_value}\")\n",
        "\n",
        "alpha = 0.05  # 유의수준 설정\n",
        "\n",
        "if p_value < alpha:\n",
        "    print(\"두 평균의 차이는 통계적으로 유의미합니다.\")\n",
        "else:\n",
        "    print(\"두 평균의 차이는 통계적으로 유의미하지 않습니다.\")"
      ],
      "metadata": {
        "colab": {
          "base_uri": "https://localhost:8080/"
        },
        "id": "BxXtkGE-V2BQ",
        "outputId": "8218310a-1c30-4e58-ceba-f6e0278bf34a"
      },
      "execution_count": 242,
      "outputs": [
        {
          "output_type": "stream",
          "name": "stdout",
          "text": [
            "t-statistic: -26.460868175766002\n",
            "p-value: 7.79512159942402e-149\n",
            "두 평균의 차이는 통계적으로 유의미합니다.\n"
          ]
        }
      ]
    },
    {
      "cell_type": "markdown",
      "source": [
        "## 6) t-통계량과 p-값을 해석하여 결과를 설명하세요. 1종 오류와 2종 오류의 개념을 설명하고, 해당 데이터셋에 적용하여 설명해 주세요.\n",
        "- t-통계량 : 절댓값이 클수록 두 집단의 차이가 크다는 것을 알 수 있음. 그리고 음수가 나왔으므로 영국의 TotalPrice가 독일보다 평균적으로 작다는 것을 나타냄\n",
        "- p-값 : 귀무가설이 참일 때, 극단적인 값이 나올 확률을 뜻하는데 거의 0에 가까으므로 해당 귀무가설을 기각할 수 있음.\n",
        "\n",
        "- 1종 오류 : 귀무가설이 참일 때, 귀무가설을 기각. 실제로는 참인데 거짓으로 판단\n",
        "<br> - 만약 두 나라의 평균이 비슷한데 1종 오류로 인해 큰 차이가 있다고 결론을 지음\n",
        "- 2종 오류 : 귀무가설이 거짓 일 때, 귀무가설을 채택. 실제로는 거짓인데 참으로 판단\n",
        "<br> - 만약 두 나라의 평균이 큰데 2종 오류로 인해 차이가 없다고 결론을 지음"
      ],
      "metadata": {
        "id": "NBc0iYeyZPIS"
      }
    },
    {
      "cell_type": "markdown",
      "source": [
        "## 미션 3) 주중, 주말에 따른 기술통계와 분위수 분석\n",
        "\n",
        "'UnitPrice'의 분포를 분석하기 위해 상자수염그림과 히스토그램을 그리세요. 데이터의 분위수, 중심경향치(평균, 중간값), 변산성(표준편차, 분산)을 계산하고, 이들이 데이터 분포에 대해 설명해 주세요. \\\n",
        "다음의 주어진 코드를 활용해 주세요.\n",
        "\n",
        "\n",
        "```python\n",
        "# 'InvoiceDate' 컬럼을 이용하여 주중과 주말을 구분\n",
        "df['InvoiceDate'] = pd.to_datetime(df['InvoiceDate'])\n",
        "df['DayOfWeek'] = df['InvoiceDate'].dt.dayofweek\n",
        "\n",
        "\n",
        "df.loc[df['DayOfWeek'] <= 4, \"WeekEnd\"] = \"주중\"\n",
        "df.loc[df['DayOfWeek'] > 4, \"WeekEnd\"] = \"주말\"\n",
        "\n",
        "# 주중(월요일=0, 화요일=1, ..., 금요일=4)과 주말(토요일=5, 일요일=6)으로 데이터를 분리\n",
        "weekday_data = df[df['DayOfWeek'] <= 4]  # 주중\n",
        "weekend_data = df[df['DayOfWeek'] > 4]   # 주말\n",
        "```"
      ],
      "metadata": {
        "id": "lt3471zxHsgH"
      }
    },
    {
      "cell_type": "code",
      "source": [
        "# 'InvoiceDate' 컬럼을 이용하여 주중과 주말을 구분\n",
        "df['InvoiceDate'] = pd.to_datetime(df['InvoiceDate'])\n",
        "df['DayOfWeek'] = df['InvoiceDate'].dt.dayofweek\n",
        "\n",
        "\n",
        "df.loc[df['DayOfWeek'] <= 4, \"WeekEnd\"] = \"주중\"\n",
        "df.loc[df['DayOfWeek'] > 4, \"WeekEnd\"] = \"주말\"\n",
        "\n",
        "# 주중(월요일=0, 화요일=1, ..., 금요일=4)과 주말(토요일=5, 일요일=6)으로 데이터를 분리\n",
        "weekday_data = df[df['DayOfWeek'] <= 4]  # 주중\n",
        "weekend_data = df[df['DayOfWeek'] > 4]   # 주말"
      ],
      "metadata": {
        "id": "eADVEEI3cTLN"
      },
      "execution_count": 243,
      "outputs": []
    },
    {
      "cell_type": "code",
      "source": [
        "sns.boxplot(y=weekday_data['TotalPrice'])"
      ],
      "metadata": {
        "colab": {
          "base_uri": "https://localhost:8080/",
          "height": 429
        },
        "id": "Y3hGu4HFi6K5",
        "outputId": "742c5487-aefa-4631-f5be-734f296a6aad"
      },
      "execution_count": 244,
      "outputs": [
        {
          "output_type": "execute_result",
          "data": {
            "text/plain": [
              "<Axes: ylabel='TotalPrice'>"
            ]
          },
          "metadata": {},
          "execution_count": 244
        },
        {
          "output_type": "display_data",
          "data": {
            "text/plain": [
              "<Figure size 640x480 with 1 Axes>"
            ],
            "image/png": "[encoded data removed]"
          },
          "metadata": {
            "image/png": {
              "width": 578,
              "height": 394
            }
          }
        }
      ]
    },
    {
      "cell_type": "code",
      "source": [
        "sns.boxplot(y=weekend_data['TotalPrice'])"
      ],
      "metadata": {
        "colab": {
          "base_uri": "https://localhost:8080/",
          "height": 430
        },
        "id": "hOPbGQgqje_t",
        "outputId": "a146d350-3485-4962-9a15-da0acf7dd175"
      },
      "execution_count": 245,
      "outputs": [
        {
          "output_type": "execute_result",
          "data": {
            "text/plain": [
              "<Axes: ylabel='TotalPrice'>"
            ]
          },
          "metadata": {},
          "execution_count": 245
        },
        {
          "output_type": "display_data",
          "data": {
            "text/plain": [
              "<Figure size 640x480 with 1 Axes>"
            ],
            "image/png": "[encoded data removed]"
          },
          "metadata": {
            "image/png": {
              "width": 569,
              "height": 395
            }
          }
        }
      ]
    },
    {
      "cell_type": "code",
      "source": [
        "plt.hist(weekday_data['TotalPrice'])\n",
        "plt.xlabel('TotalPrice')\n",
        "plt.ylabel('Count')\n",
        "plt.title('주중 판매 히스토그램')\n",
        "plt.show()"
      ],
      "metadata": {
        "colab": {
          "base_uri": "https://localhost:8080/",
          "height": 468
        },
        "id": "uFYsCCHojoun",
        "outputId": "153c7a32-d207-473b-fe74-51b97590e278"
      },
      "execution_count": 246,
      "outputs": [
        {
          "output_type": "display_data",
          "data": {
            "text/plain": [
              "<Figure size 640x480 with 1 Axes>"
            ],
            "image/png": "[encoded data removed]"
          },
          "metadata": {
            "image/png": {
              "width": 601,
              "height": 451
            }
          }
        }
      ]
    },
    {
      "cell_type": "code",
      "source": [
        "plt.hist(weekend_data['TotalPrice'])\n",
        "plt.xlabel('TotalPrice')\n",
        "plt.ylabel('Count')\n",
        "plt.title('주말 판매 히스토그램')\n",
        "plt.show()"
      ],
      "metadata": {
        "colab": {
          "base_uri": "https://localhost:8080/",
          "height": 468
        },
        "id": "EXvhvj36kain",
        "outputId": "bf94fcd9-db24-4454-d0b7-37fb726ef593"
      },
      "execution_count": 247,
      "outputs": [
        {
          "output_type": "display_data",
          "data": {
            "text/plain": [
              "<Figure size 640x480 with 1 Axes>"
            ],
            "image/png": "[encoded data removed]"
          },
          "metadata": {
            "image/png": {
              "width": 592,
              "height": 451
            }
          }
        }
      ]
    },
    {
      "cell_type": "code",
      "source": [
        "weekday_data['TotalPrice'].describe()"
      ],
      "metadata": {
        "colab": {
          "base_uri": "https://localhost:8080/"
        },
        "id": "4qDq4e3Kkm3W",
        "outputId": "86c112e5-60ba-4698-f209-13cdb5785819"
      },
      "execution_count": 248,
      "outputs": [
        {
          "output_type": "execute_result",
          "data": {
            "text/plain": [
              "count    463855.000000\n",
              "mean         17.615805\n",
              "std          34.267217\n",
              "min           0.001000\n",
              "25%           4.130000\n",
              "50%          10.000000\n",
              "75%          17.700000\n",
              "max         974.050000\n",
              "Name: TotalPrice, dtype: float64"
            ]
          },
          "metadata": {},
          "execution_count": 248
        }
      ]
    },
    {
      "cell_type": "code",
      "source": [
        "weekend_data['TotalPrice'].describe()"
      ],
      "metadata": {
        "colab": {
          "base_uri": "https://localhost:8080/"
        },
        "id": "POlmjJ_-kwBv",
        "outputId": "dd4cc391-e0c7-4023-ca6f-a5a5a79d2a80"
      },
      "execution_count": 249,
      "outputs": [
        {
          "output_type": "execute_result",
          "data": {
            "text/plain": [
              "count    63809.000000\n",
              "mean        12.226811\n",
              "std         22.581032\n",
              "min          0.001000\n",
              "25%          2.950000\n",
              "50%          6.360000\n",
              "75%         15.000000\n",
              "max        772.200000\n",
              "Name: TotalPrice, dtype: float64"
            ]
          },
          "metadata": {},
          "execution_count": 249
        }
      ]
    },
    {
      "cell_type": "markdown",
      "source": [
        "## 데이터의 분위수, 중심경향치(평균, 중간값), 변산성(표준편차, 분산)을 계산하고, 이들이 데이터 분포에 대해 설명해 주세요.\n",
        "\n",
        "1. 주중과 주말 데이터를 비교 했을 때, 주중에는 평균적으로 더 많은 금액이 거래가 되는 것을 알 수 있음.\n",
        "2. 표준편차를 통해 주중에는 주말보다 더 큰 거래 금액이 거래되는 것을 확인할 수 있음\n",
        "3. 25%와 75%의 데이터를 통해 주중이 좀 더 많은 금액이 거래가 되는 것을 알 수 있음."
      ],
      "metadata": {
        "id": "yt0Off3Pk3V_"
      }
    },
    {
      "cell_type": "markdown",
      "source": [
        "\n",
        "## 미션4) 심슨의 역설을 설명하기 위한 구체적인 분석을 다음의 순서로 진행해 주세요.\n",
        "\n",
        "심슨의 역설(Simpson's Paradox)은 통계 데이터를 해석할 때 발생할 수 있는 현상으로, 일부 하위 그룹에서 관찰된 추세가 전체 데이터를 합쳤을 때 반전될 수 있음을 나타냅니다. 이 현상은 복잡한 데이터에서 하위 그룹 간에 상이한 분포나 크기 때문에 발생할 수 있습니다.\n",
        "\n",
        "심슨의 역설을 설명하기 위해서는, 데이터 내에서 서로 상반된 추세를 보이는 하위 그룹을 찾거나 생성해야 합니다. 예를 들어, 특정 상품의 판매량이나 단가가 국가별로 다른 추세를 보이는지, 혹은 특정 기간 동안의 판매 추세가 전체 기간 동안의 추세와 다른지 등을 분석할 수 있습니다.\n",
        "\n",
        "데이터를 제시한 특정 국가로 하위 그룹으로 나눕니다.\n",
        "각 하위 그룹에서 총 판매금액의 추세를 분석합니다.\n",
        "전체 데이터셋에 대해 동일한 지표를 분석합니다.\n",
        "하위 그룹의 추세와 전체 데이터의 추세가 서로 다른 방향성을 보일 경우, 이를 통해 심슨의 역설을 설명합니다.\n",
        "이러한 분석을 위해, 데이터 내에서 적절한 변수와 하위 그룹을 선정하는 것이 중요합니다. 현재 제공된 데이터만으로는 심슨의 역설을 바로 설명할 수 있는 명확한 예시를 찾기 어려울 수 있지만, 데이터를 깊이 분석하면 관련 현상을 발견할 수도 있습니다.\n",
        "이를 이용해 비즈니스에 어떻게 활용할 수 있을지도 설명해 주세요.\n",
        "\n",
        "```python\n",
        "country_group = [\"Japan\", \"Hong Kong\", \"Singapore\", \"Lebanon\", \"Canada\", \"USA\"]\n",
        "```"
      ],
      "metadata": {
        "id": "ape-l8gjHuNh"
      }
    },
    {
      "cell_type": "code",
      "source": [
        "# 하위 그룹 데이터 추출\n",
        "country_group = [\"Japan\", \"Hong Kong\", \"Singapore\", \"Lebanon\", \"Canada\", \"USA\"]\n",
        "\n",
        "df_group = df[df['Country'].isin(country_group)]"
      ],
      "metadata": {
        "id": "__F8cRdRHuZA"
      },
      "execution_count": 250,
      "outputs": []
    },
    {
      "cell_type": "code",
      "source": [
        "df_group.shape"
      ],
      "metadata": {
        "colab": {
          "base_uri": "https://localhost:8080/"
        },
        "id": "zcDbPsVemzHp",
        "outputId": "a1588f72-bcb5-4ffb-fb6f-713883429445"
      },
      "execution_count": 251,
      "outputs": [
        {
          "output_type": "execute_result",
          "data": {
            "text/plain": [
              "(1170, 12)"
            ]
          },
          "metadata": {},
          "execution_count": 251
        }
      ]
    },
    {
      "cell_type": "code",
      "source": [
        "df['TotalPrice'].describe()"
      ],
      "metadata": {
        "colab": {
          "base_uri": "https://localhost:8080/"
        },
        "id": "nQlHHG2cn0An",
        "outputId": "82e184ec-92fd-411f-ede2-427c81d21727"
      },
      "execution_count": 252,
      "outputs": [
        {
          "output_type": "execute_result",
          "data": {
            "text/plain": [
              "count    527664.000000\n",
              "mean         16.964129\n",
              "std          33.120862\n",
              "min           0.001000\n",
              "25%           3.750000\n",
              "50%           9.900000\n",
              "75%          17.400000\n",
              "max         974.050000\n",
              "Name: TotalPrice, dtype: float64"
            ]
          },
          "metadata": {},
          "execution_count": 252
        }
      ]
    },
    {
      "cell_type": "code",
      "source": [
        "df_group['TotalPrice'].describe()"
      ],
      "metadata": {
        "colab": {
          "base_uri": "https://localhost:8080/"
        },
        "id": "nPn05dYum5ch",
        "outputId": "0e8390db-690b-4562-ff35-25c657e64458"
      },
      "execution_count": 253,
      "outputs": [
        {
          "output_type": "execute_result",
          "data": {
            "text/plain": [
              "count    1170.000000\n",
              "mean       43.946632\n",
              "std        51.220766\n",
              "min         0.290000\n",
              "25%        15.000000\n",
              "50%        23.400000\n",
              "75%        59.400000\n",
              "max       429.600000\n",
              "Name: TotalPrice, dtype: float64"
            ]
          },
          "metadata": {},
          "execution_count": 253
        }
      ]
    },
    {
      "cell_type": "markdown",
      "source": [
        "- 전체 판매액 평균은 16.9 이고 하위 그룹의 판매액 평균은 43.9로 약 27정도의 차이를 보임\n",
        "- 전체적으로 보면 하위 그룹이 좀 더 매출이 좋을 것으로 보이나 데이터 수량이 전체 데이터와 비교하면 적은 데이터이기 때문에 좋게 보일 가능성이 있음"
      ],
      "metadata": {
        "id": "pV8RgUDo_o4g"
      }
    },
    {
      "cell_type": "markdown",
      "source": [
        "## 미션5) 상품의 단가와 총 판매액의 관계를 분석해 주세요.\n",
        "\n",
        "상품의 단가가 총 판매액에 미치는 영향을 이해하고 예측하는 것입니다. 이 분석은 가격 결정 전략을 개선하고, 수익성을 최대화하기 위해 사용될 수 있습니다.\n",
        "높은 단가의 상품이 더 많은 총 판매액을 생성할 것이라는 가설을 설정합니다.\n",
        "\n",
        "1) 데이터 전처리: 필요한 데이터를 정리하고, 결측치를 제거합니다.\\\n",
        "2) 단순 회귀분석: 단가(UnitPrice)를 독립변수로, 총 판매액(TotalPrice)을 종속변수로 설정하여 회귀분석을 수행합니다.\\\n",
        "3) 결과 해석: 회귀계수와 결정계수를 분석하여 상품 가격과 총 판매액 사이의 관계를 해석합니다."
      ],
      "metadata": {
        "id": "rYURnpG7Hu19"
      }
    },
    {
      "cell_type": "code",
      "source": [
        "from sklearn.model_selection import train_test_split\n",
        "from sklearn.linear_model import LinearRegression\n",
        "from sklearn.metrics import mean_squared_error, r2_score\n",
        "import statsmodels.api as sm\n",
        "\n",
        "X = df['UnitPrice']\n",
        "y = df['TotalPrice']\n",
        "\n",
        "X_train, X_test, y_train, y_test = train_test_split(X, y, test_size=0.2, random_state=42)\n",
        "\n",
        "X_train_sm = sm.add_constant(X_train)\n",
        "model_sm = sm.OLS(y_train, X_train_sm).fit()\n",
        "\n",
        "print(model_sm.summary())\n",
        "\n",
        "print(\"\\n회귀계수 해석:\")\n",
        "print(f\"절편 (β₀): X가 0일 때, Y의 예측값은 {model_sm.params[0]:.4f}입니다.\")\n",
        "print(f\"기울기 (β₁): X가 1단위 증가할 때, Y는 평균적으로 {model_sm.params[1]:.4f} 만큼 증가합니다.\")\n",
        "\n",
        "print(\"\\n유의성 검정 결과:\")\n",
        "for i, p_value in enumerate(model_sm.pvalues):\n",
        "    if i == 0:\n",
        "        coef_name = \"절편\"\n",
        "    else:\n",
        "        coef_name = f\"X{i}\"\n",
        "\n",
        "    if p_value < alpha:\n",
        "        print(f\"{coef_name}의 p-value({p_value:.4f})가 {alpha}보다 작으므로, 통계적으로 유의합니다.\")\n",
        "    else:\n",
        "        print(f\"{coef_name}의 p-value({p_value:.4f})가 {alpha}보다 크므로, 통계적으로 유의하지 않습니다.\")\n",
        "\n",
        "# 예측 및 평가\n",
        "X_test_sm = sm.add_constant(X_test)\n",
        "y_pred = model_sm.predict(X_test_sm)\n",
        "mse = mean_squared_error(y_test, y_pred)\n",
        "r2 = r2_score(y_test, y_pred)\n",
        "\n",
        "print(f\"\\nMSE: {mse:.4f}\")\n",
        "print(f\"R²: {r2:.4f}\")"
      ],
      "metadata": {
        "colab": {
          "base_uri": "https://localhost:8080/"
        },
        "id": "Ib80qX_SDb_L",
        "outputId": "2e60a2da-0cac-41c2-995f-d51a21cf759f"
      },
      "execution_count": 254,
      "outputs": [
        {
          "output_type": "stream",
          "name": "stdout",
          "text": [
            "                            OLS Regression Results                            \n",
            "==============================================================================\n",
            "Dep. Variable:             TotalPrice   R-squared:                       0.058\n",
            "Model:                            OLS   Adj. R-squared:                  0.058\n",
            "Method:                 Least Squares   F-statistic:                 2.612e+04\n",
            "Date:                Tue, 16 Jul 2024   Prob (F-statistic):               0.00\n",
            "Time:                        07:16:06   Log-Likelihood:            -2.0647e+06\n",
            "No. Observations:              422131   AIC:                         4.129e+06\n",
            "Df Residuals:                  422129   BIC:                         4.129e+06\n",
            "Df Model:                           1                                         \n",
            "Covariance Type:            nonrobust                                         \n",
            "==============================================================================\n",
            "                 coef    std err          t      P>|t|      [0.025      0.975]\n",
            "------------------------------------------------------------------------------\n",
            "const         13.0950      0.055    237.540      0.000      12.987      13.203\n",
            "UnitPrice      1.1137      0.007    161.602      0.000       1.100       1.127\n",
            "==============================================================================\n",
            "Omnibus:                   630387.735   Durbin-Watson:                   2.003\n",
            "Prob(Omnibus):                  0.000   Jarque-Bera (JB):        349890335.754\n",
            "Skew:                           9.187   Prob(JB):                         0.00\n",
            "Kurtosis:                     142.840   Cond. No.                         8.92\n",
            "==============================================================================\n",
            "\n",
            "Notes:\n",
            "[1] Standard Errors assume that the covariance matrix of the errors is correctly specified.\n",
            "\n",
            "회귀계수 해석:\n",
            "절편 (β₀): X가 0일 때, Y의 예측값은 13.0950입니다.\n",
            "기울기 (β₁): X가 1단위 증가할 때, Y는 평균적으로 1.1137 만큼 증가합니다.\n",
            "\n",
            "유의성 검정 결과:\n",
            "절편의 p-value(0.0000)가 0.05보다 작으므로, 통계적으로 유의합니다.\n",
            "X1의 p-value(0.0000)가 0.05보다 작으므로, 통계적으로 유의합니다.\n",
            "\n",
            "MSE: 1020.9931\n",
            "R²: 0.0536\n"
          ]
        }
      ]
    },
    {
      "cell_type": "markdown",
      "source": [
        "- 회귀계수 : p-value가 0.05보다 작으므로 귀무가설을 부정하며, 우연히 발생한 결과가 아닌 것을 확인할 수 있음.\n",
        "- 결정계수 : R²는 1에 가까울 수록 모델이 데이터를 잘 설명한다고 볼 수 있는데, 0.05의 낮은 수를 가졌으며, 이는 UnitPrice가 TotalPrice를 예측하는데 영향이 크지 않은 것으로 볼 수 있음"
      ],
      "metadata": {
        "id": "hXv7Bi_HFO47"
      }
    },
    {
      "cell_type": "markdown",
      "source": [
        "## 미션6) 여러 분은 크리스마스가 온라인 소매 판매에 미치는 영향을 평가하고, 이를 바탕으로 더 효과적인 가격 및 프로모션 전략을 개발해야 합니다.  \n",
        "\n",
        "* 다음과 같은 비즈니스 전략을 고려하여 인과 분석을 합니다. 증거의 사다리로 데이터에서 얻을 수 있는 증거의 강도를 평가합니다. 크리스마스 관련 상품과 비관련 상품 간의 판매 차이를 분석합니다.\n",
        "\n",
        "\n",
        "* 프로모션 전략\n",
        "    * 크리스마스 상품 프로모션 강화하여 크리스마스 관련 상품의 판매를 증진시키기 위한 특별 프로모션을 개발합니다.\n",
        "    * 대상 고객을 세분화하여 크리스마스 상품에 관심이 높은 고객 세그먼트를 식별하고, 이들을 대상으로 한 마케팅 캠페인을 실행합니다.\n",
        "* 재고 및 공급망 관리\n",
        "    * 재고 최적화를 통해 크리스마스 시즌에 대한 수요 예측을 바탕으로 재고 수준을 조절합니다.\n",
        "    * 공급망 효율화를 통해 시즌별 수요 변화에 따라 공급망을 조정하여 비용을 최소화하고, 고객 만족도를 높입니다.\n",
        "* 상품 다양화\n",
        "    * 상품 포트폴리오를 확장하여 크리스마스 관련 상품뿐만 아니라, 다른 시즌 상품에도 주목하여 상품 포트폴리오를 다양화합니다\n",
        "\n",
        "* 크리스마스 시즌 동안 프로모션과 상품 가격 전략이 판매에 미치는 영향을 분석하여, 미래의 프로모션 및 가격 전략을 최적화해야 합니다.\n",
        "\n",
        "\n",
        "\n",
        "* 다음 주어진 코드를 활용합니다.\n",
        "\n",
        "\n",
        "```python\n",
        "# 2011년 이전 데이터만 사용합니다.\n",
        "# 프로모션 여부와 시간에 따른 데이터 분리\n",
        "df_promotion = df[(df[\"InvoiceDate\"] < \"2011-01-01\") & df[\"Description\"].notnull()].dropna().copy()\n",
        "df_promotion[\"IsChristmasPeriod\"] = (df_promotion[\"InvoiceDate\"] >= \"2010-12-17\") & (df_promotion[\"InvoiceDate\"] <= \"2010-12-24\")\n",
        "df_promotion[\"IsChristmasProduct\"] = df_promotion[\"Description\"].str.lower().str.contains(\"christmas\")\n",
        "```"
      ],
      "metadata": {
        "id": "nAaWNLnIJC_N"
      }
    },
    {
      "cell_type": "code",
      "source": [
        "# 2011년 이전 데이터만 사용합니다.\n",
        "# 프로모션 여부와 시간에 따른 데이터 분리\n",
        "df_promotion = df[(df[\"InvoiceDate\"] < \"2011-01-01\") & df[\"Description\"].notnull()].dropna().copy()\n",
        "df_promotion[\"IsChristmasPeriod\"] = (df_promotion[\"InvoiceDate\"] >= \"2010-12-17\") & (df_promotion[\"InvoiceDate\"] <= \"2010-12-24\")\n",
        "df_promotion[\"IsChristmasProduct\"] = df_promotion[\"Description\"].str.lower().str.contains(\"christmas\")"
      ],
      "metadata": {
        "id": "yckhUGZ4JDuM"
      },
      "execution_count": 255,
      "outputs": []
    },
    {
      "cell_type": "code",
      "source": [
        "df_promotion.shape"
      ],
      "metadata": {
        "colab": {
          "base_uri": "https://localhost:8080/"
        },
        "id": "wIDqupvdJGBH",
        "outputId": "5ac810a8-00c8-4962-9b50-2616f8ae744f"
      },
      "execution_count": 256,
      "outputs": [
        {
          "output_type": "execute_result",
          "data": {
            "text/plain": [
              "(41310, 14)"
            ]
          },
          "metadata": {},
          "execution_count": 256
        }
      ]
    },
    {
      "cell_type": "code",
      "source": [
        "df_promotion[df_promotion['IsChristmasProduct']== True].shape"
      ],
      "metadata": {
        "colab": {
          "base_uri": "https://localhost:8080/"
        },
        "id": "chYewHdoH0WK",
        "outputId": "1c139b37-9908-442f-bb54-b0d4bb28d946"
      },
      "execution_count": 257,
      "outputs": [
        {
          "output_type": "execute_result",
          "data": {
            "text/plain": [
              "(2669, 14)"
            ]
          },
          "metadata": {},
          "execution_count": 257
        }
      ]
    },
    {
      "cell_type": "markdown",
      "source": [
        "크리스마스 관련 물품은 전체 물품의 약 6%가 팔린 것을 확인"
      ],
      "metadata": {
        "id": "0CB_u97VLi_R"
      }
    },
    {
      "cell_type": "code",
      "source": [
        "# 전체 시즌 크리스마스 물품과 비관련 물품의 차이 비교\n",
        "df_promotion_true = df_promotion[df_promotion['IsChristmasProduct']== True]\n",
        "df_promotion_false = df_promotion[df_promotion['IsChristmasProduct']== False]"
      ],
      "metadata": {
        "id": "fKgR4snaKztH"
      },
      "execution_count": 258,
      "outputs": []
    },
    {
      "cell_type": "code",
      "source": [
        "# 판매된 크리스마스 관련 물품은 총 106가지\n",
        "\n",
        "description_counts = df_promotion_true['Description'].value_counts()\n",
        "description_counts_filtered = description_counts[description_counts >= 1]\n",
        "print(description_counts_filtered)"
      ],
      "metadata": {
        "colab": {
          "base_uri": "https://localhost:8080/"
        },
        "id": "T82t7dm3NhqO",
        "outputId": "a779b9b1-a913-4e91-993a-b3a9f8480cdf"
      },
      "execution_count": 259,
      "outputs": [
        {
          "output_type": "stream",
          "name": "stdout",
          "text": [
            "Description\n",
            "PAPER CHAIN KIT 50'S CHRISTMAS         173\n",
            "PAPER CHAIN KIT VINTAGE CHRISTMAS      137\n",
            "SET OF 20 VINTAGE CHRISTMAS NAPKINS    100\n",
            "60 CAKE CASES VINTAGE CHRISTMAS         84\n",
            "CHRISTMAS TOILET ROLL                   75\n",
            "                                      ... \n",
            "CHRISTMAS TREE T-LIGHT HOLDER            1\n",
            "PINK FEATHER CHRISTMAS DECORATION        1\n",
            "3 WICK CHRISTMAS BRIAR CANDLE            1\n",
            "BLACKCHRISTMAS TREE 30CM                 1\n",
            "DUSTY PINK CHRISTMAS TREE 30CM           1\n",
            "Name: count, Length: 106, dtype: int64\n"
          ]
        }
      ]
    },
    {
      "cell_type": "code",
      "source": [
        "df_promotion_true['TotalPrice'].describe()"
      ],
      "metadata": {
        "colab": {
          "base_uri": "https://localhost:8080/"
        },
        "id": "W6tD7AmwLAiC",
        "outputId": "25f7a49c-4b16-4edc-b69b-f68b27bb81e7"
      },
      "execution_count": 260,
      "outputs": [
        {
          "output_type": "execute_result",
          "data": {
            "text/plain": [
              "count    2669.000000\n",
              "mean       15.358692\n",
              "std        33.705449\n",
              "min         0.380000\n",
              "25%         2.950000\n",
              "50%         6.720000\n",
              "75%        15.300000\n",
              "max       704.080000\n",
              "Name: TotalPrice, dtype: float64"
            ]
          },
          "metadata": {},
          "execution_count": 260
        }
      ]
    },
    {
      "cell_type": "code",
      "source": [
        "df_promotion_false['TotalPrice'].describe()"
      ],
      "metadata": {
        "colab": {
          "base_uri": "https://localhost:8080/"
        },
        "id": "tXdtbceGLFms",
        "outputId": "6afbd1d0-087d-47c9-bf99-09ddf0c300de"
      },
      "execution_count": 261,
      "outputs": [
        {
          "output_type": "execute_result",
          "data": {
            "text/plain": [
              "count    38641.000000\n",
              "mean        16.917594\n",
              "std         35.146820\n",
              "min          0.140000\n",
              "25%          3.750000\n",
              "50%          8.470000\n",
              "75%         17.400000\n",
              "max        974.050000\n",
              "Name: TotalPrice, dtype: float64"
            ]
          },
          "metadata": {},
          "execution_count": 261
        }
      ]
    },
    {
      "cell_type": "markdown",
      "source": [
        "전체 시즌에서는 크리스마스 물품에 대한 차이가 크게 나지 않음"
      ],
      "metadata": {
        "id": "U7zHZl72LnMe"
      }
    },
    {
      "cell_type": "code",
      "source": [
        "# 크리스마스 시즌 크리스마스 물품과 비관련 물품의 차이 비교\n",
        "df_promotion_true = df_promotion[(df_promotion['IsChristmasProduct'] == True) & (df_promotion['IsChristmasPeriod'] == True)]\n",
        "df_promotion_false = df_promotion[(df_promotion['IsChristmasProduct'] == False) & (df_promotion['IsChristmasPeriod'] == True)]"
      ],
      "metadata": {
        "id": "n0dKvUekLulz"
      },
      "execution_count": 262,
      "outputs": []
    },
    {
      "cell_type": "code",
      "source": [
        "print(df_promotion_true.shape, df_promotion_false.shape)"
      ],
      "metadata": {
        "colab": {
          "base_uri": "https://localhost:8080/"
        },
        "id": "4vFS3wpUMW8u",
        "outputId": "174cf6e0-9a0c-45d6-c764-609db5bd03c8"
      },
      "execution_count": 263,
      "outputs": [
        {
          "output_type": "stream",
          "name": "stdout",
          "text": [
            "(389, 14) (7580, 14)\n"
          ]
        }
      ]
    },
    {
      "cell_type": "code",
      "source": [
        "df_promotion_true = df_promotion[(df_promotion['IsChristmasProduct'] == True) & (df_promotion['IsChristmasPeriod'] == True)]\n",
        "description_counts = df_promotion_true['Description'].value_counts()\n",
        "description_counts_filtered = description_counts[description_counts >= 1]\n",
        "print(description_counts_filtered)"
      ],
      "metadata": {
        "colab": {
          "base_uri": "https://localhost:8080/"
        },
        "id": "KlzY9AiWWoyy",
        "outputId": "7f95ae17-9160-4569-b104-486223c26c40"
      },
      "execution_count": 264,
      "outputs": [
        {
          "output_type": "stream",
          "name": "stdout",
          "text": [
            "Description\n",
            "PAPER CHAIN KIT VINTAGE CHRISTMAS      15\n",
            "PAPER CHAIN KIT 50'S CHRISTMAS         15\n",
            "CHRISTMAS TOILET ROLL                  13\n",
            "SET OF 20 VINTAGE CHRISTMAS NAPKINS    12\n",
            "CHRISTMAS CRAFT TREE TOP ANGEL         11\n",
            "                                       ..\n",
            "FOLKART STAR CHRISTMAS DECORATIONS      1\n",
            "CHRISTMAS MUSICAL ZINC TREE             1\n",
            "WHITE CHRISTMAS GARLAND STARS TREES     1\n",
            "ROBIN CHRISTMAS CARD                    1\n",
            "SET OF 6 RIBBONS VINTAGE CHRISTMAS      1\n",
            "Name: count, Length: 82, dtype: int64\n"
          ]
        }
      ]
    },
    {
      "cell_type": "code",
      "source": [
        "df_promotion_true['TotalPrice'].describe()"
      ],
      "metadata": {
        "colab": {
          "base_uri": "https://localhost:8080/"
        },
        "id": "_WDParIOMgPa",
        "outputId": "0d9e48bd-2995-4d46-dd24-202534c97041"
      },
      "execution_count": 265,
      "outputs": [
        {
          "output_type": "execute_result",
          "data": {
            "text/plain": [
              "count    389.000000\n",
              "mean      11.245013\n",
              "std       24.983061\n",
              "min        0.380000\n",
              "25%        1.950000\n",
              "50%        4.250000\n",
              "75%       10.500000\n",
              "max      358.810000\n",
              "Name: TotalPrice, dtype: float64"
            ]
          },
          "metadata": {},
          "execution_count": 265
        }
      ]
    },
    {
      "cell_type": "code",
      "source": [
        "df_promotion_false['TotalPrice'].describe()"
      ],
      "metadata": {
        "colab": {
          "base_uri": "https://localhost:8080/"
        },
        "id": "kO-S36aFMmsr",
        "outputId": "39f11ba4-d19b-4012-a22c-fb096d9345eb"
      },
      "execution_count": 266,
      "outputs": [
        {
          "output_type": "execute_result",
          "data": {
            "text/plain": [
              "count    7580.000000\n",
              "mean       15.597263\n",
              "std        30.824529\n",
              "min         0.420000\n",
              "25%         3.750000\n",
              "50%         7.900000\n",
              "75%        16.500000\n",
              "max       815.580000\n",
              "Name: TotalPrice, dtype: float64"
            ]
          },
          "metadata": {},
          "execution_count": 266
        }
      ]
    },
    {
      "cell_type": "code",
      "source": [
        "# 비회원 숫자 확인\n",
        "df_promotion['CustomerID'].value_counts().head(5)"
      ],
      "metadata": {
        "colab": {
          "base_uri": "https://localhost:8080/"
        },
        "id": "W-jFysZfRfag",
        "outputId": "d157d278-72ce-4fc3-b799-d4ce82d954e9"
      },
      "execution_count": 267,
      "outputs": [
        {
          "output_type": "execute_result",
          "data": {
            "text/plain": [
              "CustomerID\n",
              "0        15275\n",
              "12748      668\n",
              "17850      297\n",
              "14911      291\n",
              "17841      287\n",
              "Name: count, dtype: int64"
            ]
          },
          "metadata": {},
          "execution_count": 267
        }
      ]
    },
    {
      "cell_type": "markdown",
      "source": [
        "크리스마스 시즌에도 크리스마스 물품이 많이 팔리지 않았으며 오히려 비관련 물품이 많이 팔리고 수익이 좋은 것을 확인할 수 있음.\n",
        "\n",
        "- 프로모션 전략\n",
        "1. 대상 고객을 세분화하여 크리스마스 상품에 관심이 높은 고객 세그먼트를 식별하고, 이들을 대상으로 한 마케팅 캠페인을 실행합니다.\n",
        "2. 비회원의 구매 횟수가 총 15275 번으로 전체 41310 번의 약 1/3을 차지하고 있습니다. 회원 가입 후 혜택으로 크리스마스 물품을 할인하는 캠페인을 실행하면, 사이트의 회원 수도 늘리며 크리스마스 물품을 더욱 더 판매할 수 있을 것이라 예상합니다.\n",
        "3. 크리스마스 기획전 프로모션을 통해 크리스마스 비물품과 연관된 크리스마스 물품을 노출 시켜 구매를 유도\n",
        "\n",
        "- 재고 및 공급망 관리\n",
        "1. 프로모션 이후 판매량을 분석하여 다음 시즌에 대한 수요 예측을 통해 조절\n",
        "\n",
        "- 상품 다양화\n",
        "1. 시즌별로 기획전 프로모션으로 다양한 상품에 대한 구매를 유도\n",
        "\n"
      ],
      "metadata": {
        "id": "9nUZ6vPhOhjf"
      }
    },
    {
      "cell_type": "markdown",
      "source": [
        "## 미션7) 다변량 회귀분석을 수행하여 크리스마스 기간 전후와 크리스마스 관련 상품과 비관련 상품 간의 판매량(Quantity) 차이를 'UnitPrice'와 'Country'와 함께 분석합니다.\n",
        "\n",
        "* 판매량(Quantity)을 종속변수로 하여, 크리스마스 관련 상품 여부(IsChristmasProduct), 단가(UnitPrice), 국가(Country) 등을 독립변수로 포함하는 다변량 선형 회귀모델을 구축합니다.\n",
        "* statsmodels 라이브러리(statsmodels.formula.api 의 ols)를 사용하여 모델을 구축하고, 결과를 해석합니다.\n",
        "* 분석 결과를 해석하고, 이를 바탕으로 크리스마스 시즌 판매 전략에 대한 권장 사항을 제시합니다.\n",
        "* 분석 과정과 결과, 그리고 비즈니스 전략에 대한 권장 사항을 포함하는 보고서를 작성합니다.\n",
        "* 다음 주어진 코드를 활용합니다.\n",
        "\n",
        "```python\n",
        "from statsmodels.formula.api import ols\n",
        "\n",
        "# ols.summary()를 이용해 볼 수 있습니다.\n",
        "```"
      ],
      "metadata": {
        "id": "bH8W-kUIJD_6"
      }
    },
    {
      "cell_type": "code",
      "source": [
        "df_christmas = df_promotion.drop(['InvoiceNo', 'Description', 'StockCode', 'InvoiceDate', 'CustomerID', 'InvoiceMonth','WeekEnd'], axis=1)"
      ],
      "metadata": {
        "id": "isdYq5C9bEfd"
      },
      "execution_count": 301,
      "outputs": []
    },
    {
      "cell_type": "code",
      "source": [
        "df_christmas.head()"
      ],
      "metadata": {
        "colab": {
          "base_uri": "https://localhost:8080/",
          "height": 206
        },
        "id": "dxFW1p0Tbl8V",
        "outputId": "b18bf3c0-9678-42fc-eadb-065052f6e11a"
      },
      "execution_count": 302,
      "outputs": [
        {
          "output_type": "execute_result",
          "data": {
            "text/plain": [
              "   Quantity  UnitPrice         Country  TotalPrice  DayOfWeek  \\\n",
              "0         6       2.55  United Kingdom       15.30          2   \n",
              "1         6       3.39  United Kingdom       20.34          2   \n",
              "2         8       2.75  United Kingdom       22.00          2   \n",
              "3         6       3.39  United Kingdom       20.34          2   \n",
              "4         6       3.39  United Kingdom       20.34          2   \n",
              "\n",
              "   IsChristmasPeriod  IsChristmasProduct  \n",
              "0              False               False  \n",
              "1              False               False  \n",
              "2              False               False  \n",
              "3              False               False  \n",
              "4              False               False  "
            ],
            "text/html": [
              "\n",
              "  <div id=\"df-ae318516-97d4-425d-b297-53e2a2adfbaf\" class=\"colab-df-container\">\n",
              "    <div>\n",
              "<style scoped>\n",
              "    .dataframe tbody tr th:only-of-type {\n",
              "        vertical-align: middle;\n",
              "    }\n",
              "\n",
              "    .dataframe tbody tr th {\n",
              "        vertical-align: top;\n",
              "    }\n",
              "\n",
              "    .dataframe thead th {\n",
              "        text-align: right;\n",
              "    }\n",
              "</style>\n",
              "<table border=\"1\" class=\"dataframe\">\n",
              "  <thead>\n",
              "    <tr style=\"text-align: right;\">\n",
              "      <th></th>\n",
              "      <th>Quantity</th>\n",
              "      <th>UnitPrice</th>\n",
              "      <th>Country</th>\n",
              "      <th>TotalPrice</th>\n",
              "      <th>DayOfWeek</th>\n",
              "      <th>IsChristmasPeriod</th>\n",
              "      <th>IsChristmasProduct</th>\n",
              "    </tr>\n",
              "  </thead>\n",
              "  <tbody>\n",
              "    <tr>\n",
              "      <th>0</th>\n",
              "      <td>6</td>\n",
              "      <td>2.55</td>\n",
              "      <td>United Kingdom</td>\n",
              "      <td>15.30</td>\n",
              "      <td>2</td>\n",
              "      <td>False</td>\n",
              "      <td>False</td>\n",
              "    </tr>\n",
              "    <tr>\n",
              "      <th>1</th>\n",
              "      <td>6</td>\n",
              "      <td>3.39</td>\n",
              "      <td>United Kingdom</td>\n",
              "      <td>20.34</td>\n",
              "      <td>2</td>\n",
              "      <td>False</td>\n",
              "      <td>False</td>\n",
              "    </tr>\n",
              "    <tr>\n",
              "      <th>2</th>\n",
              "      <td>8</td>\n",
              "      <td>2.75</td>\n",
              "      <td>United Kingdom</td>\n",
              "      <td>22.00</td>\n",
              "      <td>2</td>\n",
              "      <td>False</td>\n",
              "      <td>False</td>\n",
              "    </tr>\n",
              "    <tr>\n",
              "      <th>3</th>\n",
              "      <td>6</td>\n",
              "      <td>3.39</td>\n",
              "      <td>United Kingdom</td>\n",
              "      <td>20.34</td>\n",
              "      <td>2</td>\n",
              "      <td>False</td>\n",
              "      <td>False</td>\n",
              "    </tr>\n",
              "    <tr>\n",
              "      <th>4</th>\n",
              "      <td>6</td>\n",
              "      <td>3.39</td>\n",
              "      <td>United Kingdom</td>\n",
              "      <td>20.34</td>\n",
              "      <td>2</td>\n",
              "      <td>False</td>\n",
              "      <td>False</td>\n",
              "    </tr>\n",
              "  </tbody>\n",
              "</table>\n",
              "</div>\n",
              "    <div class=\"colab-df-buttons\">\n",
              "\n",
              "  <div class=\"colab-df-container\">\n",
              "    <button class=\"colab-df-convert\" onclick=\"convertToInteractive('df-ae318516-97d4-425d-b297-53e2a2adfbaf')\"\n",
              "            title=\"Convert this dataframe to an interactive table.\"\n",
              "            style=\"display:none;\">\n",
              "\n",
              "  <svg xmlns=\"http://www.w3.org/2000/svg\" height=\"24px\" viewBox=\"0 -960 960 960\">\n",
              "    <path d=\"M120-120v-720h720v720H120Zm60-500h600v-160H180v160Zm220 220h160v-160H400v160Zm0 220h160v-160H400v160ZM180-400h160v-160H180v160Zm440 0h160v-160H620v160ZM180-180h160v-160H180v160Zm440 0h160v-160H620v160Z\"/>\n",
              "  </svg>\n",
              "    </button>\n",
              "\n",
              "  <style>\n",
              "    .colab-df-container {\n",
              "      display:flex;\n",
              "      gap: 12px;\n",
              "    }\n",
              "\n",
              "    .colab-df-convert {\n",
              "      background-color: #E8F0FE;\n",
              "      border: none;\n",
              "      border-radius: 50%;\n",
              "      cursor: pointer;\n",
              "      display: none;\n",
              "      fill: #1967D2;\n",
              "      height: 32px;\n",
              "      padding: 0 0 0 0;\n",
              "      width: 32px;\n",
              "    }\n",
              "\n",
              "    .colab-df-convert:hover {\n",
              "      background-color: #E2EBFA;\n",
              "      box-shadow: 0px 1px 2px rgba(60, 64, 67, 0.3), 0px 1px 3px 1px rgba(60, 64, 67, 0.15);\n",
              "      fill: #174EA6;\n",
              "    }\n",
              "\n",
              "    .colab-df-buttons div {\n",
              "      margin-bottom: 4px;\n",
              "    }\n",
              "\n",
              "    [theme=dark] .colab-df-convert {\n",
              "      background-color: #3B4455;\n",
              "      fill: #D2E3FC;\n",
              "    }\n",
              "\n",
              "    [theme=dark] .colab-df-convert:hover {\n",
              "      background-color: #434B5C;\n",
              "      box-shadow: 0px 1px 3px 1px rgba(0, 0, 0, 0.15);\n",
              "      filter: drop-shadow(0px 1px 2px rgba(0, 0, 0, 0.3));\n",
              "      fill: #FFFFFF;\n",
              "    }\n",
              "  </style>\n",
              "\n",
              "    <script>\n",
              "      const buttonEl =\n",
              "        document.querySelector('#df-ae318516-97d4-425d-b297-53e2a2adfbaf button.colab-df-convert');\n",
              "      buttonEl.style.display =\n",
              "        google.colab.kernel.accessAllowed ? 'block' : 'none';\n",
              "\n",
              "      async function convertToInteractive(key) {\n",
              "        const element = document.querySelector('#df-ae318516-97d4-425d-b297-53e2a2adfbaf');\n",
              "        const dataTable =\n",
              "          await google.colab.kernel.invokeFunction('convertToInteractive',\n",
              "                                                    [key], {});\n",
              "        if (!dataTable) return;\n",
              "\n",
              "        const docLinkHtml = 'Like what you see? Visit the ' +\n",
              "          '<a target=\"_blank\" href=https://colab.research.google.com/notebooks/data_table.ipynb>data table notebook</a>'\n",
              "          + ' to learn more about interactive tables.';\n",
              "        element.innerHTML = '';\n",
              "        dataTable['output_type'] = 'display_data';\n",
              "        await google.colab.output.renderOutput(dataTable, element);\n",
              "        const docLink = document.createElement('div');\n",
              "        docLink.innerHTML = docLinkHtml;\n",
              "        element.appendChild(docLink);\n",
              "      }\n",
              "    </script>\n",
              "  </div>\n",
              "\n",
              "\n",
              "<div id=\"df-e3a37b0d-9b94-4978-826a-92a63eba5829\">\n",
              "  <button class=\"colab-df-quickchart\" onclick=\"quickchart('df-e3a37b0d-9b94-4978-826a-92a63eba5829')\"\n",
              "            title=\"Suggest charts\"\n",
              "            style=\"display:none;\">\n",
              "\n",
              "<svg xmlns=\"http://www.w3.org/2000/svg\" height=\"24px\"viewBox=\"0 0 24 24\"\n",
              "     width=\"24px\">\n",
              "    <g>\n",
              "        <path d=\"M19 3H5c-1.1 0-2 .9-2 2v14c0 1.1.9 2 2 2h14c1.1 0 2-.9 2-2V5c0-1.1-.9-2-2-2zM9 17H7v-7h2v7zm4 0h-2V7h2v10zm4 0h-2v-4h2v4z\"/>\n",
              "    </g>\n",
              "</svg>\n",
              "  </button>\n",
              "\n",
              "<style>\n",
              "  .colab-df-quickchart {\n",
              "      --bg-color: #E8F0FE;\n",
              "      --fill-color: #1967D2;\n",
              "      --hover-bg-color: #E2EBFA;\n",
              "      --hover-fill-color: #174EA6;\n",
              "      --disabled-fill-color: #AAA;\n",
              "      --disabled-bg-color: #DDD;\n",
              "  }\n",
              "\n",
              "  [theme=dark] .colab-df-quickchart {\n",
              "      --bg-color: #3B4455;\n",
              "      --fill-color: #D2E3FC;\n",
              "      --hover-bg-color: #434B5C;\n",
              "      --hover-fill-color: #FFFFFF;\n",
              "      --disabled-bg-color: #3B4455;\n",
              "      --disabled-fill-color: #666;\n",
              "  }\n",
              "\n",
              "  .colab-df-quickchart {\n",
              "    background-color: var(--bg-color);\n",
              "    border: none;\n",
              "    border-radius: 50%;\n",
              "    cursor: pointer;\n",
              "    display: none;\n",
              "    fill: var(--fill-color);\n",
              "    height: 32px;\n",
              "    padding: 0;\n",
              "    width: 32px;\n",
              "  }\n",
              "\n",
              "  .colab-df-quickchart:hover {\n",
              "    background-color: var(--hover-bg-color);\n",
              "    box-shadow: 0 1px 2px rgba(60, 64, 67, 0.3), 0 1px 3px 1px rgba(60, 64, 67, 0.15);\n",
              "    fill: var(--button-hover-fill-color);\n",
              "  }\n",
              "\n",
              "  .colab-df-quickchart-complete:disabled,\n",
              "  .colab-df-quickchart-complete:disabled:hover {\n",
              "    background-color: var(--disabled-bg-color);\n",
              "    fill: var(--disabled-fill-color);\n",
              "    box-shadow: none;\n",
              "  }\n",
              "\n",
              "  .colab-df-spinner {\n",
              "    border: 2px solid var(--fill-color);\n",
              "    border-color: transparent;\n",
              "    border-bottom-color: var(--fill-color);\n",
              "    animation:\n",
              "      spin 1s steps(1) infinite;\n",
              "  }\n",
              "\n",
              "  @keyframes spin {\n",
              "    0% {\n",
              "      border-color: transparent;\n",
              "      border-bottom-color: var(--fill-color);\n",
              "      border-left-color: var(--fill-color);\n",
              "    }\n",
              "    20% {\n",
              "      border-color: transparent;\n",
              "      border-left-color: var(--fill-color);\n",
              "      border-top-color: var(--fill-color);\n",
              "    }\n",
              "    30% {\n",
              "      border-color: transparent;\n",
              "      border-left-color: var(--fill-color);\n",
              "      border-top-color: var(--fill-color);\n",
              "      border-right-color: var(--fill-color);\n",
              "    }\n",
              "    40% {\n",
              "      border-color: transparent;\n",
              "      border-right-color: var(--fill-color);\n",
              "      border-top-color: var(--fill-color);\n",
              "    }\n",
              "    60% {\n",
              "      border-color: transparent;\n",
              "      border-right-color: var(--fill-color);\n",
              "    }\n",
              "    80% {\n",
              "      border-color: transparent;\n",
              "      border-right-color: var(--fill-color);\n",
              "      border-bottom-color: var(--fill-color);\n",
              "    }\n",
              "    90% {\n",
              "      border-color: transparent;\n",
              "      border-bottom-color: var(--fill-color);\n",
              "    }\n",
              "  }\n",
              "</style>\n",
              "\n",
              "  <script>\n",
              "    async function quickchart(key) {\n",
              "      const quickchartButtonEl =\n",
              "        document.querySelector('#' + key + ' button');\n",
              "      quickchartButtonEl.disabled = true;  // To prevent multiple clicks.\n",
              "      quickchartButtonEl.classList.add('colab-df-spinner');\n",
              "      try {\n",
              "        const charts = await google.colab.kernel.invokeFunction(\n",
              "            'suggestCharts', [key], {});\n",
              "      } catch (error) {\n",
              "        console.error('Error during call to suggestCharts:', error);\n",
              "      }\n",
              "      quickchartButtonEl.classList.remove('colab-df-spinner');\n",
              "      quickchartButtonEl.classList.add('colab-df-quickchart-complete');\n",
              "    }\n",
              "    (() => {\n",
              "      let quickchartButtonEl =\n",
              "        document.querySelector('#df-e3a37b0d-9b94-4978-826a-92a63eba5829 button');\n",
              "      quickchartButtonEl.style.display =\n",
              "        google.colab.kernel.accessAllowed ? 'block' : 'none';\n",
              "    })();\n",
              "  </script>\n",
              "</div>\n",
              "\n",
              "    </div>\n",
              "  </div>\n"
            ],
            "application/vnd.google.colaboratory.intrinsic+json": {
              "type": "dataframe",
              "variable_name": "df_christmas",
              "summary": "{\n  \"name\": \"df_christmas\",\n  \"rows\": 41310,\n  \"fields\": [\n    {\n      \"column\": \"Quantity\",\n      \"properties\": {\n        \"dtype\": \"int32\",\n        \"num_unique_values\": 98,\n        \"samples\": [\n          35,\n          15,\n          57\n        ],\n        \"semantic_type\": \"\",\n        \"description\": \"\"\n      }\n    },\n    {\n      \"column\": \"UnitPrice\",\n      \"properties\": {\n        \"dtype\": \"number\",\n        \"std\": 6.096770353212076,\n        \"min\": 0.07,\n        \"max\": 295.0,\n        \"num_unique_values\": 221,\n        \"samples\": [\n          1.84,\n          39.96,\n          2.96\n        ],\n        \"semantic_type\": \"\",\n        \"description\": \"\"\n      }\n    },\n    {\n      \"column\": \"Country\",\n      \"properties\": {\n        \"dtype\": \"category\",\n        \"num_unique_values\": 23,\n        \"samples\": [\n          \"Iceland\",\n          \"Poland\",\n          \"United Kingdom\"\n        ],\n        \"semantic_type\": \"\",\n        \"description\": \"\"\n      }\n    },\n    {\n      \"column\": \"TotalPrice\",\n      \"properties\": {\n        \"dtype\": \"number\",\n        \"std\": 35.05718538420499,\n        \"min\": 0.14,\n        \"max\": 974.0500000000001,\n        \"num_unique_values\": 1332,\n        \"samples\": [\n          431.71999999999997,\n          5.92,\n          62.1\n        ],\n        \"semantic_type\": \"\",\n        \"description\": \"\"\n      }\n    },\n    {\n      \"column\": \"DayOfWeek\",\n      \"properties\": {\n        \"dtype\": \"int32\",\n        \"num_unique_values\": 6,\n        \"samples\": [\n          2,\n          3,\n          1\n        ],\n        \"semantic_type\": \"\",\n        \"description\": \"\"\n      }\n    },\n    {\n      \"column\": \"IsChristmasPeriod\",\n      \"properties\": {\n        \"dtype\": \"boolean\",\n        \"num_unique_values\": 2,\n        \"samples\": [\n          true,\n          false\n        ],\n        \"semantic_type\": \"\",\n        \"description\": \"\"\n      }\n    },\n    {\n      \"column\": \"IsChristmasProduct\",\n      \"properties\": {\n        \"dtype\": \"boolean\",\n        \"num_unique_values\": 2,\n        \"samples\": [\n          true,\n          false\n        ],\n        \"semantic_type\": \"\",\n        \"description\": \"\"\n      }\n    }\n  ]\n}"
            }
          },
          "metadata": {},
          "execution_count": 302
        }
      ]
    },
    {
      "cell_type": "code",
      "source": [
        "df_christmas['Quantity'] = df_christmas['Quantity'].astype(int)\n",
        "df_christmas['DayOfWeek'] = df_christmas['DayOfWeek'].astype(int)\n",
        "df_christmas['IsChristmasProduct'] = df_christmas['IsChristmasProduct'].astype(int)\n",
        "df_christmas['IsChristmasPeriod'] = df_christmas['IsChristmasPeriod'].astype(int)"
      ],
      "metadata": {
        "id": "mMxkwrxRcXUW"
      },
      "execution_count": 305,
      "outputs": []
    },
    {
      "cell_type": "code",
      "source": [
        "df_christmas = pd.get_dummies(df_christmas, columns=['Country'])"
      ],
      "metadata": {
        "id": "kVrXgBTyb0-L"
      },
      "execution_count": 290,
      "outputs": []
    },
    {
      "cell_type": "code",
      "source": [
        "plt.figure(figsize=(15, 10))\n",
        "sns.heatmap(df_christmas.select_dtypes(include=['float64', 'int64']).corr(), annot=True, cmap='coolwarm')\n",
        "plt.title('상관관계')\n",
        "plt.show()"
      ],
      "metadata": {
        "colab": {
          "base_uri": "https://localhost:8080/",
          "height": 850
        },
        "id": "ykSxy9ptc4js",
        "outputId": "612d8830-6414-4a8a-dd25-894663a4b417"
      },
      "execution_count": 306,
      "outputs": [
        {
          "output_type": "display_data",
          "data": {
            "text/plain": [
              "<Figure size 1500x1000 with 2 Axes>"
            ],
            "image/png": "[encoded data removed]"
          },
          "metadata": {
            "image/png": {
              "width": 1100,
              "height": 833
            }
          }
        }
      ]
    },
    {
      "cell_type": "code",
      "source": [
        "from statsmodels.formula.api import ols\n",
        "\n",
        "model = ols(formula = 'Quantity ~ UnitPrice + TotalPrice + IsChristmasPeriod + IsChristmasProduct + Country', data = df_christmas).fit()"
      ],
      "metadata": {
        "id": "7XBHfDh6JEjT"
      },
      "execution_count": 314,
      "outputs": []
    },
    {
      "cell_type": "code",
      "source": [
        "print(model.summary())"
      ],
      "metadata": {
        "colab": {
          "base_uri": "https://localhost:8080/"
        },
        "id": "DWM2UZP5gChb",
        "outputId": "76e0710c-daee-4945-8d04-8e58f9ed1932"
      },
      "execution_count": 315,
      "outputs": [
        {
          "output_type": "stream",
          "name": "stdout",
          "text": [
            "                            OLS Regression Results                            \n",
            "==============================================================================\n",
            "Dep. Variable:               Quantity   R-squared:                       0.450\n",
            "Model:                            OLS   Adj. R-squared:                  0.450\n",
            "Method:                 Least Squares   F-statistic:                     1301.\n",
            "Date:                Tue, 16 Jul 2024   Prob (F-statistic):               0.00\n",
            "Time:                        07:47:42   Log-Likelihood:            -1.5728e+05\n",
            "No. Observations:               41310   AIC:                         3.146e+05\n",
            "Df Residuals:                   41283   BIC:                         3.149e+05\n",
            "Df Model:                          26                                         \n",
            "Covariance Type:            nonrobust                                         \n",
            "==============================================================================================\n",
            "                                 coef    std err          t      P>|t|      [0.025      0.975]\n",
            "----------------------------------------------------------------------------------------------\n",
            "Intercept                      8.9841      1.928      4.659      0.000       5.205      12.763\n",
            "Country[T.Austria]            -5.5709      4.310     -1.293      0.196     -14.018       2.876\n",
            "Country[T.Bahrain]            -5.9901     11.073     -0.541      0.589     -27.694      15.713\n",
            "Country[T.Belgium]             7.1428      2.229      3.204      0.001       2.773      11.512\n",
            "Country[T.Channel Islands]    -3.7816      3.272     -1.156      0.248     -10.195       2.632\n",
            "Country[T.Cyprus]             -1.4575      2.269     -0.642      0.521      -5.904       2.989\n",
            "Country[T.Denmark]            -0.2069      3.108     -0.067      0.947      -6.298       5.884\n",
            "Country[T.EIRE]               -0.8252      2.008     -0.411      0.681      -4.761       3.111\n",
            "Country[T.Finland]            52.6883      3.272     16.103      0.000      46.275      59.101\n",
            "Country[T.France]             -0.8874      1.997     -0.444      0.657      -4.801       3.026\n",
            "Country[T.Germany]            -0.5560      1.986     -0.280      0.780      -4.449       3.337\n",
            "Country[T.Iceland]            -2.8857      2.747     -1.050      0.294      -8.271       2.499\n",
            "Country[T.Italy]              -3.2308      2.585     -1.250      0.211      -8.298       1.837\n",
            "Country[T.Japan]              16.7724      2.361      7.104      0.000      12.145      21.400\n",
            "Country[T.Lithuania]          -1.1082      2.666     -0.416      0.678      -6.335       4.118\n",
            "Country[T.Netherlands]        30.5624      2.392     12.779      0.000      25.875      35.250\n",
            "Country[T.Norway]              9.6262      2.127      4.526      0.000       5.457      13.795\n",
            "Country[T.Poland]              1.8559      4.309      0.431      0.667      -6.590      10.301\n",
            "Country[T.Portugal]           -3.1392      2.177     -1.442      0.149      -7.405       1.127\n",
            "Country[T.Spain]              -1.7152      2.302     -0.745      0.456      -6.227       2.796\n",
            "Country[T.Sweden]             55.2966      3.274     16.892      0.000      48.880      61.713\n",
            "Country[T.Switzerland]         1.3060      2.479      0.527      0.598      -3.552       6.164\n",
            "Country[T.United Kingdom]     -3.7682      1.928     -1.955      0.051      -7.547       0.011\n",
            "UnitPrice                     -0.6512      0.009    -71.635      0.000      -0.669      -0.633\n",
            "TotalPrice                     0.2645      0.002    166.219      0.000       0.261       0.268\n",
            "IsChristmasPeriod             -0.9377      0.138     -6.779      0.000      -1.209      -0.667\n",
            "IsChristmasProduct             0.8467      0.219      3.871      0.000       0.418       1.275\n",
            "==============================================================================\n",
            "Omnibus:                    39275.933   Durbin-Watson:                   1.256\n",
            "Prob(Omnibus):                  0.000   Jarque-Bera (JB):          7100410.696\n",
            "Skew:                           4.114   Prob(JB):                         0.00\n",
            "Kurtosis:                      66.698   Cond. No.                     8.28e+03\n",
            "==============================================================================\n",
            "\n",
            "Notes:\n",
            "[1] Standard Errors assume that the covariance matrix of the errors is correctly specified.\n",
            "[2] The condition number is large, 8.28e+03. This might indicate that there are\n",
            "strong multicollinearity or other numerical problems.\n"
          ]
        }
      ]
    },
    {
      "cell_type": "markdown",
      "source": [
        "## 결과 분석\n",
        "1. 모델 요약\n",
        "- R-squared : 0.450<br>\n",
        "모델이 예측을 중간정도 하는 것으로 볼 수 있음\n",
        "- P-value : 0.00<br>\n",
        "0을 나타내므로 모델이 유의미하다는 것을 알 수 있음\n",
        "2. 회귀계수\n",
        "- UnitPrice : -0.6512(p < 0.0001)<br>\n",
        "단위 가격이 1 증가할 때마다 판매 수량이 0.6512씩 감소를 함\n",
        "- TotalPrice : 0.2645(p < 0.0001)<br>\n",
        "총 가격이 1 증가할 때마다 판매 수량이 0.2645씩 증가함\n",
        "- IsChristmasPeriod : -0.9377(p < 0.0001)<br>\n",
        "크리스마스 기간에 판매 수량이 0.9377씩 감소함\n",
        "- IsChristmasProduct : 0.8467(p < 0.0001)<br>\n",
        "크리스마스 상품의 경우 판매 수량이 0.8467씩 증가함\n",
        "\n",
        "3. 모델이 유의미한 국가\n",
        "- Belgium: 7.1428 (p = 0.001)\n",
        "- Finland: 52.6883 (p < 0.0001)\n",
        "- Japan: 16.7724 (p < 0.0001)\n",
        "- Netherlands: 30.5624 (p < 0.0001)\n",
        "- Norway: 9.6262 (p < 0.0001)\n",
        "- Sweden: 55.2966 (p < 0.0001)\n",
        "\n",
        "이며, 나머지 국가들은 p-value가 0.05보다 높아 판매 수량에 대한 유의미한 차이를 나타내지 않음\n",
        "\n",
        "4. 오차의 정상성 테스트\n",
        "- Omnibus : 39275.933<br>\n",
        "잔차의 정상성을 검정. 값이 매우 크므로 잔차가 정규분포를 따르지 않음\n",
        "- Durbin-Watson: 1.256<br>\n",
        "잔차의 자기 상관을 테스트 2에 가까울수록 자기 상관이 없음을 의미하며, 1.256은 양의 자기 상관을 의미함\n",
        "- Skew : 4.114<br>\n",
        "잔차의 왜도 이며, 0에서 멀어질수록 비대칭성이 크므로, 해당 모델은 비대칭함을 알 수 있음\n",
        "- Kurtosis : 66.698<br>\n",
        "잔차의 첨도 이며, 정규분포는 3이지만, 66.698은 극단값이 많다는 것을 의미함.\n",
        "\n",
        "## 결론\n",
        "- TotalPrice, UnitPrice, IsChristmasPeriod, IsChristmasProduct은 유의미한 변수이며, 일부 국가들은 유의미한 변수가 아님을 나타냄\n",
        "- 해당 데이터는 정규분포를 따르지 않아, 모델의 적합성을 평가할 때 고려해야 됨."
      ],
      "metadata": {
        "id": "uNlYgxKvife_"
      }
    },
    {
      "cell_type": "markdown",
      "source": [
        "## 크리스마스 시즌 판매 전략\n",
        "1. 크리스마스 시즌에 판매량이 자체가 감소하는 경향이 보이므로, 크리스마스 기간 동안 기획전 프로모션을 통해 크리스마스 시즌에 구매하는 고객이 늘어나도록 유도하도록 제안\n",
        "2. 모델이 유의미한 국가에 집중하여 해당 국가에 대한 특별 프로모션과 광고를 집중 강화하도록 제안\n",
        "3. 크리스마스 상품의 경우 묶음 상품으로 판매를 하여 한번에 구매하도록 제안\n",
        "4. 크리스마스 상품을 특정 금액 넘게 구매할 경우 사은품을 증정"
      ],
      "metadata": {
        "id": "oea-s6AblnhY"
      }
    },
    {
      "cell_type": "markdown",
      "source": [
        "## 미션8) 온라인 소매 데이터를 사용하여 고객이 특정 상품을 구매할지 여부를 예측합니다.\n",
        "이 예측 모델을 사용하여 타겟 마케팅 전략을 수립하고, 재고 관리를 최적화합니다. 고객의 특정 상품 구매 여부(구매/미구매)를 예측하는 이진 분류 모델을 구축합니다.\n",
        "\n",
        "\n",
        "1) 타겟 변수 생성: 'WHITE HANGING HEART T-LIGHT HOLDER' 상품을 구매했는지 여부를 나타내는 이진 타겟 변수(0: 미구매, 1: 구매)를 생성합니다.\\\n",
        "2) 특성(feature) 선택: 구매 예측에 영향을 미칠 수 있는 변수들을 선택합니다. 예를 들어, 'UnitPrice', 'Quantity', 'CustomerID', 'Country' 등이 될 수 있습니다.\\\n",
        "3) 범주형 변수 처리: 'Country'와 같은 범주형 변수를 숫자로 변환합니다. 원-핫 인코딩 등을 사용할 수 있습니다.\\\n",
        "4) 데이터 분할: 모델 학습을 위해 데이터를 훈련 세트와 테스트 세트로 분할합니다.\\\n",
        "5) 로지스틱 회귀 모델 생성 및 학습합니다.\\\n",
        "6) 모델을 평가 합니다."
      ],
      "metadata": {
        "id": "Vzq22y-6JMtN"
      }
    },
    {
      "cell_type": "code",
      "source": [
        "buy_description = df.drop(['InvoiceNo', 'StockCode', 'InvoiceDate', 'DayOfWeek', 'WeekEnd'], axis=1)"
      ],
      "metadata": {
        "id": "xGQS9JhXJM_B"
      },
      "execution_count": 319,
      "outputs": []
    },
    {
      "cell_type": "code",
      "source": [
        "# 구매 여부 컬럼 생성\n",
        "buy_description['buy'] = buy_description['Description'].apply(lambda x: 'WHITE HANGING HEART T-LIGHT HOLDER' in x)"
      ],
      "metadata": {
        "id": "RTdsi6weoPqY"
      },
      "execution_count": 321,
      "outputs": []
    },
    {
      "cell_type": "code",
      "source": [
        "buy_description.drop(['Description'], axis=1, inplace=True)"
      ],
      "metadata": {
        "id": "Kb6tfG_EoqEs"
      },
      "execution_count": 325,
      "outputs": []
    },
    {
      "cell_type": "code",
      "source": [
        "buy_description.info()"
      ],
      "metadata": {
        "colab": {
          "base_uri": "https://localhost:8080/"
        },
        "id": "4iTYyXWmo0Nt",
        "outputId": "ee829b64-ab3c-4139-e66c-68b4ca3a7a7d"
      },
      "execution_count": 327,
      "outputs": [
        {
          "output_type": "stream",
          "name": "stdout",
          "text": [
            "<class 'pandas.core.frame.DataFrame'>\n",
            "Index: 527664 entries, 0 to 541908\n",
            "Data columns (total 7 columns):\n",
            " #   Column        Non-Null Count   Dtype  \n",
            "---  ------        --------------   -----  \n",
            " 0   Quantity      527664 non-null  int32  \n",
            " 1   UnitPrice     527664 non-null  float64\n",
            " 2   CustomerID    527664 non-null  int64  \n",
            " 3   Country       527664 non-null  object \n",
            " 4   InvoiceMonth  527664 non-null  int32  \n",
            " 5   TotalPrice    527664 non-null  float64\n",
            " 6   buy           527664 non-null  bool   \n",
            "dtypes: bool(1), float64(2), int32(2), int64(1), object(1)\n",
            "memory usage: 40.8+ MB\n"
          ]
        }
      ]
    },
    {
      "cell_type": "code",
      "source": [
        "buy_description = pd.get_dummies(buy_description, columns=['Country'])"
      ],
      "metadata": {
        "id": "qQTGN4Ako8hC"
      },
      "execution_count": 335,
      "outputs": []
    },
    {
      "cell_type": "code",
      "source": [
        "from sklearn.preprocessing import StandardScaler\n",
        "\n",
        "# 데이터 분할\n",
        "X_train = buy_description.drop(['buy'], axis=1)\n",
        "y_train = buy_description['buy']\n",
        "\n",
        "scaler = StandardScaler()\n",
        "X_scaled = scaler.fit_transform(X_train)\n",
        "\n",
        "X_tr, X_val, y_tr, y_val = train_test_split(X_train, y_train, test_size=0.2, random_state=0)"
      ],
      "metadata": {
        "id": "Y_j6-v1-pHhK"
      },
      "execution_count": 336,
      "outputs": []
    },
    {
      "cell_type": "code",
      "source": [
        "# 로지스틱 회귀 모델\n",
        "from sklearn.linear_model import LogisticRegression\n",
        "\n",
        "model = LogisticRegression(random_state=42)\n",
        "model.fit(X_train, y_train)"
      ],
      "metadata": {
        "colab": {
          "base_uri": "https://localhost:8080/",
          "height": 74
        },
        "id": "kJtMxN6arT7p",
        "outputId": "596782a9-58f6-42ef-8734-cf79e0a1e8b1"
      },
      "execution_count": 337,
      "outputs": [
        {
          "output_type": "execute_result",
          "data": {
            "text/plain": [
              "LogisticRegression(random_state=42)"
            ],
            "text/html": [
              "<style>#sk-container-id-1 {color: black;background-color: white;}#sk-container-id-1 pre{padding: 0;}#sk-container-id-1 div.sk-toggleable {background-color: white;}#sk-container-id-1 label.sk-toggleable__label {cursor: pointer;display: block;width: 100%;margin-bottom: 0;padding: 0.3em;box-sizing: border-box;text-align: center;}#sk-container-id-1 label.sk-toggleable__label-arrow:before {content: \"▸\";float: left;margin-right: 0.25em;color: #696969;}#sk-container-id-1 label.sk-toggleable__label-arrow:hover:before {color: black;}#sk-container-id-1 div.sk-estimator:hover label.sk-toggleable__label-arrow:before {color: black;}#sk-container-id-1 div.sk-toggleable__content {max-height: 0;max-width: 0;overflow: hidden;text-align: left;background-color: #f0f8ff;}#sk-container-id-1 div.sk-toggleable__content pre {margin: 0.2em;color: black;border-radius: 0.25em;background-color: #f0f8ff;}#sk-container-id-1 input.sk-toggleable__control:checked~div.sk-toggleable__content {max-height: 200px;max-width: 100%;overflow: auto;}#sk-container-id-1 input.sk-toggleable__control:checked~label.sk-toggleable__label-arrow:before {content: \"▾\";}#sk-container-id-1 div.sk-estimator input.sk-toggleable__control:checked~label.sk-toggleable__label {background-color: #d4ebff;}#sk-container-id-1 div.sk-label input.sk-toggleable__control:checked~label.sk-toggleable__label {background-color: #d4ebff;}#sk-container-id-1 input.sk-hidden--visually {border: 0;clip: rect(1px 1px 1px 1px);clip: rect(1px, 1px, 1px, 1px);height: 1px;margin: -1px;overflow: hidden;padding: 0;position: absolute;width: 1px;}#sk-container-id-1 div.sk-estimator {font-family: monospace;background-color: #f0f8ff;border: 1px dotted black;border-radius: 0.25em;box-sizing: border-box;margin-bottom: 0.5em;}#sk-container-id-1 div.sk-estimator:hover {background-color: #d4ebff;}#sk-container-id-1 div.sk-parallel-item::after {content: \"\";width: 100%;border-bottom: 1px solid gray;flex-grow: 1;}#sk-container-id-1 div.sk-label:hover label.sk-toggleable__label {background-color: #d4ebff;}#sk-container-id-1 div.sk-serial::before {content: \"\";position: absolute;border-left: 1px solid gray;box-sizing: border-box;top: 0;bottom: 0;left: 50%;z-index: 0;}#sk-container-id-1 div.sk-serial {display: flex;flex-direction: column;align-items: center;background-color: white;padding-right: 0.2em;padding-left: 0.2em;position: relative;}#sk-container-id-1 div.sk-item {position: relative;z-index: 1;}#sk-container-id-1 div.sk-parallel {display: flex;align-items: stretch;justify-content: center;background-color: white;position: relative;}#sk-container-id-1 div.sk-item::before, #sk-container-id-1 div.sk-parallel-item::before {content: \"\";position: absolute;border-left: 1px solid gray;box-sizing: border-box;top: 0;bottom: 0;left: 50%;z-index: -1;}#sk-container-id-1 div.sk-parallel-item {display: flex;flex-direction: column;z-index: 1;position: relative;background-color: white;}#sk-container-id-1 div.sk-parallel-item:first-child::after {align-self: flex-end;width: 50%;}#sk-container-id-1 div.sk-parallel-item:last-child::after {align-self: flex-start;width: 50%;}#sk-container-id-1 div.sk-parallel-item:only-child::after {width: 0;}#sk-container-id-1 div.sk-dashed-wrapped {border: 1px dashed gray;margin: 0 0.4em 0.5em 0.4em;box-sizing: border-box;padding-bottom: 0.4em;background-color: white;}#sk-container-id-1 div.sk-label label {font-family: monospace;font-weight: bold;display: inline-block;line-height: 1.2em;}#sk-container-id-1 div.sk-label-container {text-align: center;}#sk-container-id-1 div.sk-container {/* jupyter's `normalize.less` sets `[hidden] { display: none; }` but bootstrap.min.css set `[hidden] { display: none !important; }` so we also need the `!important` here to be able to override the default hidden behavior on the sphinx rendered scikit-learn.org. See: https://github.com/scikit-learn/scikit-learn/issues/21755 */display: inline-block !important;position: relative;}#sk-container-id-1 div.sk-text-repr-fallback {display: none;}</style><div id=\"sk-container-id-1\" class=\"sk-top-container\"><div class=\"sk-text-repr-fallback\"><pre>LogisticRegression(random_state=42)</pre><b>In a Jupyter environment, please rerun this cell to show the HTML representation or trust the notebook. <br />On GitHub, the HTML representation is unable to render, please try loading this page with nbviewer.org.</b></div><div class=\"sk-container\" hidden><div class=\"sk-item\"><div class=\"sk-estimator sk-toggleable\"><input class=\"sk-toggleable__control sk-hidden--visually\" id=\"sk-estimator-id-1\" type=\"checkbox\" checked><label for=\"sk-estimator-id-1\" class=\"sk-toggleable__label sk-toggleable__label-arrow\">LogisticRegression</label><div class=\"sk-toggleable__content\"><pre>LogisticRegression(random_state=42)</pre></div></div></div></div></div>"
            ]
          },
          "metadata": {},
          "execution_count": 337
        }
      ]
    },
    {
      "cell_type": "code",
      "source": [
        "# 모델 평가\n",
        "\n",
        "y_pred = model.predict(X_val)\n",
        "from sklearn.metrics import accuracy_score, classification_report\n",
        "\n",
        "print(\"\\n모델 정확도:\", accuracy_score(y_val, y_pred))\n",
        "print(\"\\n분류 보고서:\")\n",
        "print(classification_report(y_val, y_pred))"
      ],
      "metadata": {
        "colab": {
          "base_uri": "https://localhost:8080/"
        },
        "id": "2WQ1Pv5Ur5DW",
        "outputId": "63c04b87-3426-44d2-f181-5006ed26d6d5"
      },
      "execution_count": 338,
      "outputs": [
        {
          "output_type": "stream",
          "name": "stdout",
          "text": [
            "\n",
            "모델 정확도: 0.995953872248491\n",
            "\n",
            "분류 보고서:\n",
            "              precision    recall  f1-score   support\n",
            "\n",
            "       False       1.00      1.00      1.00    105107\n",
            "        True       0.00      0.00      0.00       426\n",
            "\n",
            "    accuracy                           1.00    105533\n",
            "   macro avg       0.50      0.50      0.50    105533\n",
            "weighted avg       0.99      1.00      0.99    105533\n",
            "\n"
          ]
        }
      ]
    },
    {
      "cell_type": "markdown",
      "source": [
        "## 모델 평가\n",
        "높은 정확도를 보이고 있으나 해당 모델은 과적합의 가능성의 여부도 판단해야 됨."
      ],
      "metadata": {
        "id": "_dBmRV1iskBn"
      }
    },
    {
      "cell_type": "code",
      "source": [
        "from sklearn.metrics import roc_curve, roc_auc_score\n",
        "\n",
        "# ROC 곡선 및 AUC 계산\n",
        "y_prob = model.predict_proba(X_val)[:, 1]\n",
        "fpr, tpr, thresholds = roc_curve(y_val, y_prob)\n",
        "auc = roc_auc_score(y_val, y_prob)\n",
        "\n",
        "# ROC 곡선 그리기\n",
        "plt.figure(figsize=(8, 6))\n",
        "plt.plot(fpr, tpr, label=f'AUC = {auc:.2f}')\n",
        "plt.plot([0, 1], [0, 1], 'k--')\n",
        "plt.xlabel('False Positive Rate')\n",
        "plt.ylabel('True Positive Rate')\n",
        "plt.title('ROC Curve')\n",
        "plt.legend(loc='lower right')\n",
        "plt.show()"
      ],
      "metadata": {
        "colab": {
          "base_uri": "https://localhost:8080/",
          "height": 561
        },
        "id": "v-jFAjI9sBDN",
        "outputId": "092f4057-b864-4e2b-c0fd-6a414fa2019b"
      },
      "execution_count": 339,
      "outputs": [
        {
          "output_type": "display_data",
          "data": {
            "text/plain": [
              "<Figure size 800x600 with 1 Axes>"
            ],
            "image/png": "[encoded data removed]"
          },
          "metadata": {
            "image/png": {
              "width": 689,
              "height": 544
            }
          }
        }
      ]
    },
    {
      "cell_type": "markdown",
      "source": [
        "AUC 값이 높을수록 모델의 성능이 좋음을 나타내지만 0.55는 모델의 성능이 그렇게 좋은 편이 아님을 알 수 있음"
      ],
      "metadata": {
        "id": "cSnBoa_ftGxV"
      }
    }
  ]
}